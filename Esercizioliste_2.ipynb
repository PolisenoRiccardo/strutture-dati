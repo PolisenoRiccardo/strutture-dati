{
  "nbformat": 4,
  "nbformat_minor": 0,
  "metadata": {
    "colab": {
      "provenance": [],
      "collapsed_sections": [],
      "include_colab_link": true
    },
    "kernelspec": {
      "name": "python3",
      "display_name": "Python 3"
    },
    "language_info": {
      "name": "python"
    }
  },
  "cells": [
    {
      "cell_type": "markdown",
      "metadata": {
        "id": "view-in-github",
        "colab_type": "text"
      },
      "source": [
        "<a href=\"https://colab.research.google.com/github/PolisenoRiccardo/python/blob/main/Esercizio_liste_2.ipynb\" target=\"_parent\"><img src=\"https://colab.research.google.com/assets/colab-badge.svg\" alt=\"Open In Colab\"/></a>"
      ]
    },
    {
      "cell_type": "markdown",
      "source": [
        "##Esercizo in preparazione alla verifica"
      ],
      "metadata": {
        "id": "SDexScMGbRcj"
      }
    },
    {
      "cell_type": "markdown",
      "source": [
        "Caricare in una o più strutture dati adeguate i dati relativi alle squadre di calcio che hanno giocato la decima giornata del campionato. In particolare si è interessati a memorizzare le squadre che hanno giocato in casa, quelle che hanno giocato fuori casa, i gol fatti in ogni partita dalla squadra di casa e da quella ospite. Scrivere poi le istruzioni per avere le informazioni richieste nei vari esercizi"
      ],
      "metadata": {
        "id": "uOtyj2sHTbcS"
      }
    },
    {
      "cell_type": "code",
      "execution_count": null,
      "metadata": {
        "id": "7afOYm6zTYAD"
      },
      "outputs": [],
      "source": [
        "squadra1 = [\"Empoli\", \"Torino\", \"Atalanta\", \"Inter\", \"Spezia\", \"Lazio\", \"Napoli\", \"Verona\", \"Sampdoria\",\"Lecce\"]\n",
        "squadra2 = [\"Monza\", \"Juventus\", \"Sassuolo\", \"Selernitana\", \"Cremonese\", \"Udinese\", \"Bologna\", \"Milan\",\"Roma\",\"Fiorentina\"]\n",
        "golsquadra1= [1, 0, 2, 2, 0, 2, 3, 1, 0, 1]\n",
        "golsquadra2 = [0, 1, 1, 0, 0, 2, 2, 2, 1, 1]"
      ]
    },
    {
      "cell_type": "markdown",
      "source": [
        "1. visualizzare le partite che si sono giocate. Visualizzare i risultati nel formato **squadra1 - squadra2 : golSquadra1 - golSquadra2**, una partita sotto l'altra"
      ],
      "metadata": {
        "id": "anLe5NH_UPFX"
      }
    },
    {
      "cell_type": "code",
      "source": [
        "for indice in range(0, len(squadra1)): #Finessi sensei\n",
        "  print(\"{:11}{:3}{:11}{:1}{:1}{:1}{:1}\".format(squadra1[indice], \"-\", squadra2[indice],\" : \", golsquadra1[indice], \"-\", golsquadra2[indice]))"
      ],
      "metadata": {
        "id": "OEIRK8frUmDH",
        "colab": {
          "base_uri": "https://localhost:8080/"
        },
        "outputId": "8fbbc86c-1611-4278-fe7e-e6bdfa3e73d8"
      },
      "execution_count": null,
      "outputs": [
        {
          "output_type": "stream",
          "name": "stdout",
          "text": [
            "Empoli     -  Monza       : 1-0\n",
            "Torino     -  Juventus    : 0-1\n",
            "Atalanta   -  Sassuolo    : 2-1\n",
            "Inter      -  Selernitana : 2-0\n",
            "Spezia     -  Cremonese   : 0-0\n",
            "Lazio      -  Udinese     : 2-2\n",
            "Napoli     -  Bologna     : 3-2\n",
            "Verona     -  Milan       : 1-2\n",
            "Sampdoria  -  Roma        : 0-1\n",
            "Lecce      -  Fiorentina  : 1-1\n"
          ]
        }
      ]
    },
    {
      "cell_type": "markdown",
      "source": [
        "2. visualizzare l'elenco in ordine alfabetico delle squadre che hanno vinto. Caricare i nomi in una nuova lista chiamata **squadreV**"
      ],
      "metadata": {
        "id": "BNb9qu-cVJ2d"
      }
    },
    {
      "cell_type": "code",
      "source": [
        "squadreV=[]\n",
        "for i in range(0, len(golsquadra1)):\n",
        "  if golsquadra1[i] > golsquadra2[i]:\n",
        "    squadreV.append(squadra1[i])\n",
        "  elif  golsquadra1[i] < golsquadra2[i]:\n",
        "    squadreV.append(squadra2[i])\n",
        "\n",
        "print(sorted(squadreV))\n",
        "print(squadreV)\n",
        "squadreV.sort()\n",
        "print(squadreV)"
      ],
      "metadata": {
        "id": "NWvhhclUVPKy",
        "colab": {
          "base_uri": "https://localhost:8080/"
        },
        "outputId": "1450ec1c-ded0-4963-aa6e-04caa6a7c7ad"
      },
      "execution_count": null,
      "outputs": [
        {
          "output_type": "stream",
          "name": "stdout",
          "text": [
            "['Atalanta', 'Empoli', 'Inter', 'Juventus', 'Milan', 'Napoli', 'Roma']\n",
            "['Empoli', 'Juventus', 'Atalanta', 'Inter', 'Napoli', 'Milan', 'Roma']\n",
            "['Atalanta', 'Empoli', 'Inter', 'Juventus', 'Milan', 'Napoli', 'Roma']\n"
          ]
        }
      ]
    },
    {
      "cell_type": "markdown",
      "source": [
        "3. visualizzare l'elenco in ordine alfabetico delle squadre che hanno perso. Caricare i nomi in una nuova lista chiamata **squadreP**"
      ],
      "metadata": {
        "id": "ZpSNMANmVPhh"
      }
    },
    {
      "cell_type": "code",
      "source": [
        "squadreP=[]\n",
        "for i in range(len(golsquadra1)):\n",
        "  if golsquadra1[i] < golsquadra2[i]:\n",
        "    squadreP.append(squadra1[i])\n",
        "  elif  golsquadra1[i] > golsquadra2[i]:\n",
        "    squadreP.append(squadra2[i])   \n",
        "\n",
        "print(sorted(squadreP))"
      ],
      "metadata": {
        "id": "vH6wz6ZhViJg",
        "colab": {
          "base_uri": "https://localhost:8080/"
        },
        "outputId": "96249541-7236-46fc-fa4e-5986ef3dce2e"
      },
      "execution_count": null,
      "outputs": [
        {
          "output_type": "stream",
          "name": "stdout",
          "text": [
            "['Bologna', 'Monza', 'Sampdoria', 'Sassuolo', 'Selernitana', 'Torino', 'Verona']\n"
          ]
        }
      ]
    },
    {
      "cell_type": "markdown",
      "source": [
        "4. utilizzare i dati presenti nelle due liste precedentemente create per permettere all'utente di sapere se una squadra ha pareggiato o meno. L'utente inserisce il nome della squadra e il programma risponde visualizzando la stringa **'la squadra \\<nomeSquadraInserita\\> ha pareggiato'** o **'la squadra \\<nomeSquadraInserita\\> non pareggiato'**"
      ],
      "metadata": {
        "id": "CztpE9kyVilA"
      }
    },
    {
      "cell_type": "code",
      "source": [
        "pareggio = []\n",
        "nopareggio = []\n",
        "for x in range(len(golsquadra1)):\n",
        "  if golsquadra1[x] == golsquadra2[x]:\n",
        "    pareggio.append(squadra1[x])\n",
        "    pareggio.append(squadra2[x])\n",
        "  elif golsquadra1[x] != golsquadra2[x]:\n",
        "   nopareggio.append(squadra1[x])\n",
        "   nopareggio.append(squadra2[x])\n",
        "\n",
        "insquad = input(\"Inserisci il nome della squadra: \")\n",
        "if insquad in nopareggio:\n",
        "   print(\"La squadra \", insquad, \"non ha pareggiato.\")\n",
        "elif insquad in pareggio: \n",
        "    print(\"La squadra\", insquad, \"ha pareggiato.\") \n",
        "else:\n",
        "  print(\"La squadra che hai inserito non ha giocato, non esiste oppure non è stata scritta correttamente.\")"
      ],
      "metadata": {
        "id": "3VzlSMzAV8K6",
        "colab": {
          "base_uri": "https://localhost:8080/"
        },
        "outputId": "3b17499e-3a1a-4eac-ba86-3cf15c3a4365"
      },
      "execution_count": null,
      "outputs": [
        {
          "output_type": "stream",
          "name": "stdout",
          "text": [
            "Inserisci il nome della squadra: Carlo\n",
            "La squadra che hai inserito non ha giocato, non esiste oppure non è stata scritta correttamente.\n"
          ]
        }
      ]
    },
    {
      "cell_type": "code",
      "source": [
        "insquad = input(\"Inserisci il nome della squadra: \")\n",
        "if insquad in squadreV:\n",
        "  print(\"La squadra\", insquad, \"non ha pareggiato.\")\n",
        "elif insquad in squadreP:\n",
        "  print(\"La squadra\", insquad, \"non ha pareggiato.\")\n",
        "else:\n",
        "  print(\"La squadra\", insquad, \"ha pareggiato.\")"
      ],
      "metadata": {
        "colab": {
          "base_uri": "https://localhost:8080/"
        },
        "id": "NbEsBPUOhd1O",
        "outputId": "7b0ec09c-ebd6-41ce-d8f6-6d16e30457ef"
      },
      "execution_count": null,
      "outputs": [
        {
          "output_type": "stream",
          "name": "stdout",
          "text": [
            "Inserisci il nome della squadra: Carlo\n",
            "La squadra Carlo ha pareggiato.\n"
          ]
        }
      ]
    },
    {
      "cell_type": "markdown",
      "source": [
        "5. visualizzare il numero di partite in cui c'è stato un pareggio"
      ],
      "metadata": {
        "id": "8wpASWr6V8xA"
      }
    },
    {
      "cell_type": "code",
      "source": [
        "print(len(squadra1)-len(squadreV))\n",
        "print(round((len(squadra1) + len(squadra2) - len(squadreP) - len(squadreV)) /2))"
      ],
      "metadata": {
        "id": "WP-YdTifWs8G",
        "colab": {
          "base_uri": "https://localhost:8080/"
        },
        "outputId": "05bf850a-a74d-4ae2-8379-b0183b8900c3"
      },
      "execution_count": null,
      "outputs": [
        {
          "output_type": "stream",
          "name": "stdout",
          "text": [
            "3\n",
            "3\n"
          ]
        }
      ]
    },
    {
      "cell_type": "markdown",
      "source": [
        "Caricare in altre struttura dati la classifica **prima** della decima giornata, ordinata in ordine decrescente a partire dalla squadra con più punti. Chiamare la struttura dati **classifica09**"
      ],
      "metadata": {
        "id": "QV2p7qfTWtY8"
      }
    },
    {
      "cell_type": "code",
      "source": [
        "classifica09 = [\"Napoli\", \"Atalanta\", \"Lazio\", \"Udinese\", \"Milan\", \"Roma\", \"Inter\", \"Juventus\", \"Sassuolo\", \"Torino\", \"Salernitana\", \"Monza\", \"Fiorentina\",  \"Empoli\", \"Spezia\", \"Lecce\", \"Bologna\", \"Verona\", \"Cremonese\", \"Sampdoria\"]\n",
        "punti09 = [23, 21, 20, 20,20,19,15,13,12,11,10,10,9,8,8,7,7,5,3,3]"
      ],
      "metadata": {
        "id": "0t0dJa8lW3d4"
      },
      "execution_count": null,
      "outputs": []
    },
    {
      "cell_type": "markdown",
      "source": [
        "6. visualizzare la classifica. Visualizzare il nome della squadra e i suoi punti. Visualizzare poi le prime 6 squadre che, se il campionato finisse oggi, si qualificherebbero per accedere alle competizioni europee"
      ],
      "metadata": {
        "id": "7ZdhHj6GW31P"
      }
    },
    {
      "cell_type": "code",
      "source": [
        "for indice in range(len(classifica09)):\n",
        "  print(\"{:12}{:1}\".format(classifica09[indice], punti09[indice]))\n",
        "  \n",
        "print(classifica09[0:6])"
      ],
      "metadata": {
        "id": "MlNaWI6mXIYe",
        "colab": {
          "base_uri": "https://localhost:8080/"
        },
        "outputId": "ef40d44e-ae08-42c8-d310-efc66315d1e7"
      },
      "execution_count": null,
      "outputs": [
        {
          "output_type": "stream",
          "name": "stdout",
          "text": [
            "Napoli      23\n",
            "Atalanta    21\n",
            "Lazio       20\n",
            "Udinese     20\n",
            "Milan       20\n",
            "Roma        19\n",
            "Inter       15\n",
            "Juventus    13\n",
            "Sassuolo    12\n",
            "Torino      11\n",
            "Salernitana 10\n",
            "Monza       10\n",
            "Fiorentina  9\n",
            "Empoli      8\n",
            "Spezia      8\n",
            "Lecce       7\n",
            "Bologna     7\n",
            "Verona      5\n",
            "Cremonese   3\n",
            "Sampdoria   3\n",
            " \n",
            "['Napoli', 'Atalanta', 'Lazio', 'Udinese', 'Milan', 'Roma']\n"
          ]
        }
      ]
    },
    {
      "cell_type": "markdown",
      "source": [
        "7. aggiornare la classifica con i risultati della decima giornata. Inserire la nuova classifica in una nuova lista chiamata **classifica10**"
      ],
      "metadata": {
        "id": "WHTPsWQuXI8P"
      }
    },
    {
      "cell_type": "code",
      "source": [
        "classifica10 = [\"Napoli\", \"Atalanta\", \"Milan\", \"Roma\", \"Lazio\", \"Udinese\", \"Inter\", \"Juventus\", \"Sassuolo\", \"Empoli\", \"Torino\", \"Salernitana\", \"Fiorentina\", \"Monza\",  \"Spezia\", \"Lecce\", \"Bologna\", \"Verona\", \"Cremonese\", \"Sampdoria\"]"
      ],
      "metadata": {
        "id": "vYawcBrfvWQ3"
      },
      "execution_count": null,
      "outputs": []
    },
    {
      "cell_type": "code",
      "source": [
        "punti10 = punti09.copy()\n",
        "for indice in range(len(classifica09)):\n",
        "  if classifica09[indice] in squadreV:\n",
        "    punti10[indice] += 3\n",
        "  elif classifica09[indice] in squadreP:\n",
        "    punti10[indice] += 0 \n",
        "  else:\n",
        "    punti10[indice] += 1 \n",
        "print(classifica09)\n",
        "print(punti10)\n",
        "print(punti09)"
      ],
      "metadata": {
        "colab": {
          "base_uri": "https://localhost:8080/"
        },
        "id": "0TxFNCvpsHja",
        "outputId": "8be84bfa-82c0-4662-88d7-5bfe558ada4f"
      },
      "execution_count": null,
      "outputs": [
        {
          "output_type": "stream",
          "name": "stdout",
          "text": [
            "['Napoli', 'Atalanta', 'Lazio', 'Udinese', 'Milan', 'Roma', 'Inter', 'Juventus', 'Sassuolo', 'Torino', 'Salernitana', 'Monza', 'Fiorentina', 'Empoli', 'Spezia', 'Lecce', 'Bologna', 'Verona', 'Cremonese', 'Sampdoria']\n",
            "[26, 24, 21, 21, 23, 22, 18, 16, 12, 11, 11, 10, 10, 11, 9, 8, 7, 5, 4, 3]\n",
            "[23, 21, 20, 20, 20, 19, 15, 13, 12, 11, 10, 10, 9, 8, 8, 7, 7, 5, 3, 3]\n"
          ]
        }
      ]
    },
    {
      "cell_type": "markdown",
      "source": [
        "8. visualizzare le squadre che hanno cambiato posizione in classifica, quelle cioè che **non** occupano lo stesso posto in classifica09 e classifica10"
      ],
      "metadata": {
        "id": "Zhqh9_C0XPum"
      }
    },
    {
      "cell_type": "code",
      "source": [
        "for x in range(len(classifica09)):\n",
        "  if classifica09[x] != classifica10[x]:\n",
        "    print(classifica09[x])"
      ],
      "metadata": {
        "id": "pcM4naDAYbC3"
      },
      "execution_count": null,
      "outputs": []
    },
    {
      "cell_type": "markdown",
      "source": [
        "Caricare i dati relativi ai gol fatti e subiti dopo la decima giornata. Chiamare le strutture dati **golFatti** e **golSubiti**"
      ],
      "metadata": {
        "id": "haIAClbwYblb"
      }
    },
    {
      "cell_type": "code",
      "source": [
        "golfatti = [25, 16, 20, 13, 21, 19, 18, 13, 12, 9, 8,12,8,9,9,9,10,9,9,5]\n",
        "golsubiti = [9, 6, 10,9,5,10,14,7,12,11,12,16,12,15,19,12,17,19,21,18]"
      ],
      "metadata": {
        "id": "rKPUTVvtYuL4"
      },
      "execution_count": null,
      "outputs": []
    },
    {
      "cell_type": "markdown",
      "source": [
        "9. visualizzare la squadra che ha fatto più gol"
      ],
      "metadata": {
        "id": "t8vN8HuGYunx"
      }
    },
    {
      "cell_type": "code",
      "source": [
        "print(classifica10[golfatti.index(max(golfatti))])"
      ],
      "metadata": {
        "id": "S6dsABWgYyKQ",
        "colab": {
          "base_uri": "https://localhost:8080/"
        },
        "outputId": "53179c6b-c1b8-42c0-d7e7-e8cbeb0bd499"
      },
      "execution_count": null,
      "outputs": [
        {
          "output_type": "stream",
          "name": "stdout",
          "text": [
            "Napoli\n"
          ]
        }
      ]
    },
    {
      "cell_type": "markdown",
      "source": [
        "10. visualizzare la squadra che ha fatto meno gol"
      ],
      "metadata": {
        "id": "bRPgADnxYynX"
      }
    },
    {
      "cell_type": "code",
      "source": [
        "print(classifica10[golfatti.index(min(golfatti))])"
      ],
      "metadata": {
        "id": "qKCoZzOJY3Ix"
      },
      "execution_count": null,
      "outputs": []
    },
    {
      "cell_type": "markdown",
      "source": [
        "11. visualizzare il numero medio di gol fatti dalle squadre"
      ],
      "metadata": {
        "id": "75SjNLTaY3gx"
      }
    },
    {
      "cell_type": "code",
      "source": [
        "from statistics import mean\n",
        "print(mean(golfatti))"
      ],
      "metadata": {
        "id": "KgEqym2sY7L5"
      },
      "execution_count": null,
      "outputs": []
    },
    {
      "cell_type": "markdown",
      "source": [
        "12 visualizzare i nomi delle squadre che hanno fatto più gol della media"
      ],
      "metadata": {
        "id": "m8e4n6PkY7gZ"
      }
    },
    {
      "cell_type": "code",
      "source": [
        "for goal in range(len(golfatti)):\n",
        " if golfatti[goal] > mean(golfatti):\n",
        "   print(classifica10[goal])"
      ],
      "metadata": {
        "id": "WYVVzvseZR1C"
      },
      "execution_count": null,
      "outputs": []
    },
    {
      "cell_type": "markdown",
      "source": [
        "13. calcolare la differenza reti delle varie squadre: caricare i risultati in una nuova lista chiamata **differenzaReti**"
      ],
      "metadata": {
        "id": "ybyMSXlyZSYI"
      }
    },
    {
      "cell_type": "code",
      "source": [
        "differenzareti = [golfatti[indice]-golsubiti[indice] for indice in range(len(golsubiti))]\n",
        "print(differenzareti)"
      ],
      "metadata": {
        "id": "wFuTrkm6Z9nI",
        "colab": {
          "base_uri": "https://localhost:8080/"
        },
        "outputId": "8c935f20-5945-4565-bf8c-3d55363b7653"
      },
      "execution_count": null,
      "outputs": [
        {
          "output_type": "stream",
          "name": "stdout",
          "text": [
            "[16, 10, 10, 4, 16, 9, 4, 6, 0, -2, -4, -4, -4, -6, -10, -3, -7, -10, -12, -13]\n"
          ]
        }
      ]
    },
    {
      "cell_type": "markdown",
      "source": [
        "14. visualizzare i nomi delle squadre che hanno una differenza reti positiva"
      ],
      "metadata": {
        "id": "C-oNfGQoZ-d1"
      }
    },
    {
      "cell_type": "code",
      "source": [
        "for differenza in range(len(differenzareti)):\n",
        " if differenzareti[differenza] > -1:\n",
        "   print(classifica10[differenza])"
      ],
      "metadata": {
        "id": "lddcG_oQaDKk",
        "colab": {
          "base_uri": "https://localhost:8080/"
        },
        "outputId": "764394f2-4923-4d11-8596-6c66a1fc873f"
      },
      "execution_count": null,
      "outputs": [
        {
          "output_type": "stream",
          "name": "stdout",
          "text": [
            "Napoli\n",
            "Atalanta\n",
            "Milan\n",
            "Roma\n",
            "Lazio\n",
            "Udinese\n",
            "Inter\n",
            "Juventus\n",
            "Sassuolo\n"
          ]
        }
      ]
    },
    {
      "cell_type": "markdown",
      "source": [
        "15. visualizzare i nomi delle squadre che hanno subito più gol di quelli che hanno fatto"
      ],
      "metadata": {
        "id": "AY7CHxuHaD2x"
      }
    },
    {
      "cell_type": "code",
      "source": [
        "for differenza in range(len(differenzareti)):\n",
        " if differenzareti[differenza] < 0:\n",
        "   print(classifica10[differenza])"
      ],
      "metadata": {
        "id": "RqxyOuMiaJF4",
        "colab": {
          "base_uri": "https://localhost:8080/"
        },
        "outputId": "23bbb302-8beb-4d9b-e979-b03bb49e4231"
      },
      "execution_count": null,
      "outputs": [
        {
          "output_type": "stream",
          "name": "stdout",
          "text": [
            "Empoli\n",
            "Torino\n",
            "Salernitana\n",
            "Fiorentina\n",
            "Monza\n",
            "Spezia\n",
            "Lecce\n",
            "Bologna\n",
            "Verona\n",
            "Cremonese\n",
            "Sampdoria\n"
          ]
        }
      ]
    },
    {
      "cell_type": "markdown",
      "source": [
        "16. visualizzare le squadre che hanno fatto tanti gol quanti ne hanno subiti"
      ],
      "metadata": {
        "id": "xfKz1Q1DaJ6x"
      }
    },
    {
      "cell_type": "code",
      "source": [
        "for differenza in range(len(differenzareti)):\n",
        " if differenzareti[differenza] == 0:\n",
        "   print(classifica10[differenza])"
      ],
      "metadata": {
        "id": "ZR3qBDmxad95",
        "colab": {
          "base_uri": "https://localhost:8080/"
        },
        "outputId": "d044b6f8-59b9-488f-cfdd-8fb250a38e7b"
      },
      "execution_count": null,
      "outputs": [
        {
          "output_type": "stream",
          "name": "stdout",
          "text": [
            "Sassuolo\n"
          ]
        }
      ]
    },
    {
      "cell_type": "markdown",
      "source": [
        "17. calcolare la somma delle differenze reti di tutte le squadre"
      ],
      "metadata": {
        "id": "tjnIm62canB6"
      }
    },
    {
      "cell_type": "code",
      "source": [
        "sum(differenzareti)"
      ],
      "metadata": {
        "id": "jc__1facatut",
        "colab": {
          "base_uri": "https://localhost:8080/"
        },
        "outputId": "4eb7a66c-3853-4d7f-f098-9a66aaa2caa5"
      },
      "execution_count": null,
      "outputs": [
        {
          "output_type": "execute_result",
          "data": {
            "text/plain": [
              "0"
            ]
          },
          "metadata": {},
          "execution_count": 74
        }
      ]
    },
    {
      "cell_type": "markdown",
      "source": [
        "18. visualizzare le squadre della classifica che, se il campionato finisse oggi, sarebbero retrocesse. Scrivere il codice in modo che si possa utilizzare in qualunque giornata del campionato."
      ],
      "metadata": {
        "id": "euh8fSkcaueh"
      }
    },
    {
      "cell_type": "code",
      "source": [
        "print(classifica10[len(classifica10)-3],classifica10[len(classifica10)-2],classifica10[len(classifica10)-1])\n"
      ],
      "metadata": {
        "id": "cv7kI0sgbMnz",
        "colab": {
          "base_uri": "https://localhost:8080/"
        },
        "outputId": "44efe426-22b3-46a5-fa64-527c9be96ff3"
      },
      "execution_count": null,
      "outputs": [
        {
          "output_type": "stream",
          "name": "stdout",
          "text": [
            "Verona Cremonese Sampdoria\n"
          ]
        }
      ]
    },
    {
      "cell_type": "code",
      "source": [
        "print(classifica10[-3:len(classifica10)]) #better"
      ],
      "metadata": {
        "colab": {
          "base_uri": "https://localhost:8080/"
        },
        "id": "TQC8qC7wx2FD",
        "outputId": "1dab8b60-b882-4417-c5f0-97a5bf51024d"
      },
      "execution_count": null,
      "outputs": [
        {
          "output_type": "stream",
          "name": "stdout",
          "text": [
            "['Verona', 'Cremonese', 'Sampdoria']\n"
          ]
        }
      ]
    }
  ]
}
