{
  "nbformat": 4,
  "nbformat_minor": 0,
  "metadata": {
    "colab": {
      "provenance": [],
      "include_colab_link": true
    },
    "kernelspec": {
      "name": "python3",
      "display_name": "Python 3"
    },
    "language_info": {
      "name": "python"
    }
  },
  "cells": [
    {
      "cell_type": "markdown",
      "metadata": {
        "id": "view-in-github",
        "colab_type": "text"
      },
      "source": [
        "<a href=\"https://colab.research.google.com/github/PolisenoRiccardo/python/blob/main/Copia_di_POLISENO_RICCARDO_Esercizio_liste.ipynb\" target=\"_parent\"><img src=\"https://colab.research.google.com/assets/colab-badge.svg\" alt=\"Open In Colab\"/></a>"
      ]
    },
    {
      "cell_type": "markdown",
      "source": [
        "#Esercizio 1"
      ],
      "metadata": {
        "id": "F1InHJmbdM6X"
      }
    },
    {
      "cell_type": "markdown",
      "source": [
        "Cercare su internet le infomrazioni riguardanti le statistiche sui casi di COVID nelle regioni italiane (casi totali) e memorizzarli in opportune struttture dati. Scrivere poi le istruzioni per avere le seguenti informazioni:\n",
        "\n"
      ],
      "metadata": {
        "id": "QhSL9Ve9bdnO"
      }
    },
    {
      "cell_type": "markdown",
      "source": [
        "1. il numero totale di casi di COVID in ITalia"
      ],
      "metadata": {
        "id": "xkMF7u4fcPHU"
      }
    },
    {
      "cell_type": "code",
      "source": [
        "covidita = [3660000, 2330000, 2260000,2110000, 1900000,1660000, 1530000,1490000, 1430000,636000, 587000,571000,567000,506000, 456000, 387000,272000,221000,186000,91703,45876]\n",
        "regioni = [\"Lombardia\", \"Veneto\", \"Campania\", \"Lazio\", \"Emilia-Romagna\", \"Sicilia\", \"Piemonte\", \"Puglia\", \"Toscana\", \"Marche\", \"Liguria\", \"Abruzzo\", \"Calabria\", \"Friuli-Venezia Giulia\", \"Sardegna\", \"Umbria\", \"Alto Adige\", \"Trento\", \"Basilicata\", \"Molise\", \"Valle d'Aosta\"]\n",
        "tot=sum(covidita)\n",
        "print(tot)\n",
        "for x in range(len(covidita)):\n",
        "  print(regioni[x], covidita[x]) "
      ],
      "metadata": {
        "id": "_FhU3WWPcSc0",
        "colab": {
          "base_uri": "https://localhost:8080/"
        },
        "outputId": "047f54b8-bc0c-45cc-be23-e88fc7796856"
      },
      "execution_count": 2,
      "outputs": [
        {
          "output_type": "stream",
          "name": "stdout",
          "text": [
            "22896579\n",
            "Lombardia 3660000\n",
            "Veneto 2330000\n",
            "Campania 2260000\n",
            "Lazio 2110000\n",
            "Emilia-Romagna 1900000\n",
            "Sicilia 1660000\n",
            "Piemonte 1530000\n",
            "Puglia 1490000\n",
            "Toscana 1430000\n",
            "Marche 636000\n",
            "Liguria 587000\n",
            "Abruzzo 571000\n",
            "Calabria 567000\n",
            "Friuli-Venezia Giulia 506000\n",
            "Sardegna 456000\n",
            "Umbria 387000\n",
            "Alto Adige 272000\n",
            "Trento 221000\n",
            "Basilicata 186000\n",
            "Molise 91703\n",
            "Valle d'Aosta 45876\n"
          ]
        }
      ]
    },
    {
      "cell_type": "markdown",
      "source": [
        "2. il numero medio di casi di COVID in Italia"
      ],
      "metadata": {
        "id": "cEbSqa1FcTQs"
      }
    },
    {
      "cell_type": "code",
      "source": [
        "from statistics import mean\n",
        "mean(covidita)"
      ],
      "metadata": {
        "id": "g1IbY5N7cW10",
        "colab": {
          "base_uri": "https://localhost:8080/"
        },
        "outputId": "b10d0364-1fb2-4b63-add3-969136a4f40f"
      },
      "execution_count": null,
      "outputs": [
        {
          "output_type": "execute_result",
          "data": {
            "text/plain": [
              "1116478.95"
            ]
          },
          "metadata": {},
          "execution_count": 13
        }
      ]
    },
    {
      "cell_type": "markdown",
      "source": [
        "3. le regioni che hanno avuto un numero di casi superiore alla media"
      ],
      "metadata": {
        "id": "RV60Rp2DcXJ1"
      }
    },
    {
      "cell_type": "code",
      "source": [
        "for x in range(len(covidita)):\n",
        "  if covidita[x] > mean(covidita):\n",
        "    print(regioni[x])"
      ],
      "metadata": {
        "id": "MVte31bQcbva"
      },
      "execution_count": null,
      "outputs": []
    },
    {
      "cell_type": "markdown",
      "source": [
        "4. la percentuale di casi di COVID nelle varie regioni rispetto al totale italiano. Caricare questi dati in un'altra lista"
      ],
      "metadata": {
        "id": "qcz6bUGqccXh"
      }
    },
    {
      "cell_type": "code",
      "source": [
        "percent = [(covidita[x] / tot)*100 for x in range(len(covidita))]\n",
        "print(percent)\n",
        "sum(percent) #LETS GO"
      ],
      "metadata": {
        "id": "wZAeQZUrcpup",
        "colab": {
          "base_uri": "https://localhost:8080/"
        },
        "outputId": "c1523f5a-3c86-4686-c413-11872c121aec"
      },
      "execution_count": 5,
      "outputs": [
        {
          "output_type": "stream",
          "name": "stdout",
          "text": [
            "[15.984920716758605, 10.176192696734303, 9.870470169364602, 9.215350467858102, 8.298182885749002, 7.249991363338602, 6.682220955366301, 6.507522368297902, 6.245474487695302, 2.777707534387561, 2.563701765228771, 2.4938223304014104, 2.476352471694571, 2.2099371264152605, 1.9915638925797605, 1.6902088298867703, 1.1879503920651202, 0.9652096935529103, 0.8123484298680601, 0.4005096132483372, 0.200361809508748]\n"
          ]
        },
        {
          "output_type": "execute_result",
          "data": {
            "text/plain": [
              "99.99999999999999"
            ]
          },
          "metadata": {},
          "execution_count": 5
        }
      ]
    },
    {
      "cell_type": "code",
      "source": [
        "lista2= [round(item,2) for item in percent ]\n",
        "print(lista2)"
      ],
      "metadata": {
        "colab": {
          "base_uri": "https://localhost:8080/"
        },
        "id": "Su95-KbehqAl",
        "outputId": "3e755303-e667-4ee8-af62-c352203fb9e5"
      },
      "execution_count": 6,
      "outputs": [
        {
          "output_type": "stream",
          "name": "stdout",
          "text": [
            "[15.98, 10.18, 9.87, 9.22, 8.3, 7.25, 6.68, 6.51, 6.25, 2.78, 2.56, 2.49, 2.48, 2.21, 1.99, 1.69, 1.19, 0.97, 0.81, 0.4, 0.2]\n"
          ]
        }
      ]
    },
    {
      "cell_type": "markdown",
      "source": [
        "Cercare adesso la popolazione delle varie regioni italiane e caricare i dati in una opportuna struttura dati."
      ],
      "metadata": {
        "id": "NsxW5y1NcqHj"
      }
    },
    {
      "cell_type": "code",
      "source": [
        "plebei = [9965046, 4854633, 5590681, 5715190, 4431816, 4801468,\t4252279, 3912166, 3676285, 1489789, 1507438, 1273660, 1844586, 1197295,\t1579181,859572, 539999, 520891, 538223, 290769,123337]\n",
        "sum(plebei)"
      ],
      "metadata": {
        "id": "0ey1FJW4cwtS",
        "colab": {
          "base_uri": "https://localhost:8080/"
        },
        "outputId": "c1795b55-5585-4382-cdad-01078477300b"
      },
      "execution_count": 8,
      "outputs": [
        {
          "output_type": "execute_result",
          "data": {
            "text/plain": [
              "58964304"
            ]
          },
          "metadata": {},
          "execution_count": 8
        }
      ]
    },
    {
      "cell_type": "markdown",
      "source": [],
      "metadata": {
        "id": "TS9zfD4IDfh9"
      }
    },
    {
      "cell_type": "markdown",
      "source": [
        "5. trovare, per ogni regione, la percentuale di casi sul totale della popolazione di quella regione: caricare i dati in un'altra lista.Trovare poi la regione che ha avuto più casi in rapporto alla popolazione"
      ],
      "metadata": {
        "id": "O08u1Y_mcxFr"
      }
    },
    {
      "cell_type": "code",
      "source": [
        "percent1 = [(covidita[x] / plebei[x])*100 for x in range(len(covidita))]\n",
        "lista3= [round(indice,2) for indice in percent1]\n",
        "print(lista3)\n",
        "print(regioni[percent1.index(max(percent1))])"
      ],
      "metadata": {
        "colab": {
          "base_uri": "https://localhost:8080/"
        },
        "id": "wOcY22P25-GJ",
        "outputId": "89f2f91f-6c39-429b-e1f3-0e58be68a72e"
      },
      "execution_count": 10,
      "outputs": [
        {
          "output_type": "stream",
          "name": "stdout",
          "text": [
            "[36.73, 48.0, 40.42, 36.92, 42.87, 34.57, 35.98, 38.09, 38.9, 42.69, 38.94, 44.83, 30.74, 42.26, 28.88, 45.02, 50.37, 42.43, 34.56, 31.54, 37.2]\n",
            "Alto Adige\n"
          ]
        }
      ]
    },
    {
      "cell_type": "markdown",
      "source": [
        "Trovare la regione che ha avuto meno più casi in rapporto alla relazione"
      ],
      "metadata": {
        "id": "WlXhDffOG7tO"
      }
    },
    {
      "cell_type": "code",
      "source": [
        "print(regioni[percent1.index(min(percent1))])"
      ],
      "metadata": {
        "colab": {
          "base_uri": "https://localhost:8080/"
        },
        "id": "H9Ov71RmHIqM",
        "outputId": "06c66fa8-6b4a-4458-abc7-5b04be2ff5fa"
      },
      "execution_count": 11,
      "outputs": [
        {
          "output_type": "stream",
          "name": "stdout",
          "text": [
            "Sardegna\n"
          ]
        }
      ]
    },
    {
      "cell_type": "markdown",
      "source": [
        "#Esercizio 2"
      ],
      "metadata": {
        "id": "lDj-tyLwdDTh"
      }
    },
    {
      "cell_type": "markdown",
      "source": [
        "1. Creare due liste di 20 numeri casuali interi, compresi tra 1 e 10 non utilizzzando la list comprehension. Determinare il tempo di esecuzione di questo programma"
      ],
      "metadata": {
        "id": "HiNbJe-ldQTC"
      }
    },
    {
      "cell_type": "code",
      "source": [
        "import time\n",
        "start = time.time()\n",
        "import random\n",
        "k=[]\n",
        "for x in range(20):\n",
        "  k.append(random.randint(0,10))\n",
        "print(k)\n",
        "k1=[]\n",
        "for x in range(20):\n",
        "  k1.append(random.randint(0,10))\n",
        "print(k1)\n",
        "end = time.time()\n",
        "print(end - start)"
      ],
      "metadata": {
        "id": "hruqXxVAdWHr",
        "colab": {
          "base_uri": "https://localhost:8080/"
        },
        "outputId": "6339cf97-7928-40cb-e0a0-1356ef61ed29"
      },
      "execution_count": 15,
      "outputs": [
        {
          "output_type": "stream",
          "name": "stdout",
          "text": [
            "[6, 3, 7, 10, 1, 7, 6, 10, 3, 2, 5, 6, 2, 6, 3, 3, 2, 2, 0, 0]\n",
            "[1, 6, 10, 7, 8, 7, 7, 7, 5, 4, 0, 5, 2, 10, 8, 0, 6, 10, 10, 9]\n",
            "0.0005421638488769531\n"
          ]
        }
      ]
    },
    {
      "cell_type": "markdown",
      "source": [
        "2. Creare due liste di 20 numeri casuali interi, compresi tra 1 e 10  utilizzzando la list comprehension. Determinare il tempo di esecuzione di questo programma\n"
      ],
      "metadata": {
        "id": "wu_rcB1-dWgK"
      }
    },
    {
      "cell_type": "code",
      "source": [
        "start = time.time()\n",
        "j = [random.randint(0,10) for x in range(20)]\n",
        "j1 = [random.randint(0,10) for x in range(20)]\n",
        "print(j1)\n",
        "print(j)\n",
        "end = time.time()\n",
        "print(end - start)"
      ],
      "metadata": {
        "id": "rqz-1n7qdx3A",
        "colab": {
          "base_uri": "https://localhost:8080/"
        },
        "outputId": "e96e1274-96bd-429c-b46b-158998f79a36"
      },
      "execution_count": 25,
      "outputs": [
        {
          "output_type": "stream",
          "name": "stdout",
          "text": [
            "[6, 7, 4, 2, 6, 5, 3, 9, 1, 8, 5, 1, 7, 6, 7, 1, 6, 10, 1, 4]\n",
            "[10, 6, 8, 4, 1, 6, 10, 0, 10, 8, 3, 4, 7, 4, 3, 9, 8, 8, 2, 10]\n",
            "0.00023293495178222656\n"
          ]
        }
      ]
    },
    {
      "cell_type": "markdown",
      "source": [
        "3. creare una terza lista di valore booleani: inserire un valore vero se il primo elemento della prima lista è maggiore del primo elemento della seconda lista e così via per tutti gli elemeni delle due liste"
      ],
      "metadata": {
        "id": "ep4BmOYddyIi"
      }
    },
    {
      "cell_type": "code",
      "source": [
        "j2=[]\n",
        "for i in range(len(j)):\n",
        "  if j[i] > j1[i]:\n",
        "    j2.extend([bool(True)])\n",
        "  else:\n",
        "   j2.extend([bool(False)])\n",
        "print(j2)"
      ],
      "metadata": {
        "id": "838ZxBNVeCfn",
        "colab": {
          "base_uri": "https://localhost:8080/"
        },
        "outputId": "aa897f10-4468-4871-bf1b-83fb7d7dba7a"
      },
      "execution_count": 26,
      "outputs": [
        {
          "output_type": "stream",
          "name": "stdout",
          "text": [
            "[True, False, True, True, False, True, True, False, True, False, False, True, False, False, False, True, True, False, True, True]\n"
          ]
        }
      ]
    },
    {
      "cell_type": "code",
      "source": [
        "j2 = [(j[indice] > j1[indice]) for indice in range(len(j))] #Bernasconi il più forte\n",
        "print(j2)"
      ],
      "metadata": {
        "colab": {
          "base_uri": "https://localhost:8080/"
        },
        "id": "-_JT_PtNwtUG",
        "outputId": "bb20453e-1d78-476f-a878-f5f8472e81ca"
      },
      "execution_count": 18,
      "outputs": [
        {
          "output_type": "stream",
          "name": "stdout",
          "text": [
            "[False, True, True, True, True, True, False, False, False, True, False, True, False, True, False, False, True, False, True, False]\n"
          ]
        }
      ]
    },
    {
      "cell_type": "markdown",
      "source": [
        "4. utilizzando la terza lista, contare quanti sono gli elementi della prima lista che sono maggiori della seconda lista"
      ],
      "metadata": {
        "id": "pJcj5hNVeC4b"
      }
    },
    {
      "cell_type": "code",
      "source": [
        "j2.count(True)"
      ],
      "metadata": {
        "id": "ZOdPph2WeMBg",
        "colab": {
          "base_uri": "https://localhost:8080/"
        },
        "outputId": "5ba9ebfe-daf1-490d-a5f8-a928a0f4d9ba"
      },
      "execution_count": 20,
      "outputs": [
        {
          "output_type": "execute_result",
          "data": {
            "text/plain": [
              "10"
            ]
          },
          "metadata": {},
          "execution_count": 20
        }
      ]
    },
    {
      "cell_type": "markdown",
      "source": [
        "**5**. eliminare dalla seconda lista tutti gli elementi minori rispetto a quelli della prima lista, inserendoli in una quarta lista"
      ],
      "metadata": {
        "id": "9KHq-xy7eMYO"
      }
    },
    {
      "cell_type": "code",
      "source": [
        "j3 = []\n",
        "a = 0\n",
        "for y in j1:\n",
        "  a += 1\n",
        "  if y < j[a]:    \n",
        "    j3.append(y)\n",
        "    j1.pop(y)\n",
        "print(j3)\n",
        "print(j1)"
      ],
      "metadata": {
        "id": "VfgmqLmteRbD",
        "colab": {
          "base_uri": "https://localhost:8080/"
        },
        "outputId": "d7c84a3b-c266-427c-c383-43f9625656b3"
      },
      "execution_count": 27,
      "outputs": [
        {
          "output_type": "stream",
          "name": "stdout",
          "text": [
            "[7, 5, 8, 1, 1, 1]\n",
            "[6, 6, 3, 1, 8, 1, 7, 6, 7, 1, 6, 10, 1, 4]\n"
          ]
        }
      ]
    },
    {
      "cell_type": "markdown",
      "source": [
        "6. svutoare tutte e quattro le liste"
      ],
      "metadata": {
        "id": "R83H7_oheRzI"
      }
    },
    {
      "cell_type": "code",
      "source": [
        "j= []\n",
        "j1=[]\n",
        "j2=[]\n",
        "j3=[]"
      ],
      "metadata": {
        "id": "iPDbfgW2efAJ"
      },
      "execution_count": null,
      "outputs": []
    }
  ]
}
