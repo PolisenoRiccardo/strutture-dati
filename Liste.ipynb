{
  "nbformat": 4,
  "nbformat_minor": 0,
  "metadata": {
    "colab": {
      "provenance": [],
      "authorship_tag": "ABX9TyN2UpLjekzGZFfPvQlpkl1T",
      "include_colab_link": true
    },
    "kernelspec": {
      "name": "python3",
      "display_name": "Python 3"
    },
    "language_info": {
      "name": "python"
    }
  },
  "cells": [
    {
      "cell_type": "markdown",
      "metadata": {
        "id": "view-in-github",
        "colab_type": "text"
      },
      "source": [
        "<a href=\"https://colab.research.google.com/github/PolisenoRiccardo/python/blob/main/Liste.ipynb\" target=\"_parent\"><img src=\"https://colab.research.google.com/assets/colab-badge.svg\" alt=\"Open In Colab\"/></a>"
      ]
    },
    {
      "cell_type": "markdown",
      "source": [
        "Liste"
      ],
      "metadata": {
        "id": "HBkdlh5J4xIv"
      }
    },
    {
      "cell_type": "code",
      "execution_count": null,
      "metadata": {
        "id": "9l2287Cs2Jk0"
      },
      "outputs": [],
      "source": [
        "a =[]"
      ]
    },
    {
      "cell_type": "code",
      "source": [
        "b = [1, 2, 3, 4, 5, 6, 7, 8, 9, 10]\n",
        "print(b)"
      ],
      "metadata": {
        "id": "3iWl7jfM5B0_"
      },
      "execution_count": null,
      "outputs": []
    },
    {
      "cell_type": "code",
      "source": [
        "type(b)"
      ],
      "metadata": {
        "id": "8J0O71f25ZE9"
      },
      "execution_count": null,
      "outputs": []
    },
    {
      "cell_type": "code",
      "source": [
        "lista = [11, \"pippo\", 37.69, \"pluto\",[\"qui\", \"quo\", \"qua\", [\"Carlo III\", \"sony\", \"poggers\"]], 58]\n",
        "print(lista[4][3][0])"
      ],
      "metadata": {
        "id": "ak9gJUwX5yjJ"
      },
      "execution_count": null,
      "outputs": []
    },
    {
      "cell_type": "code",
      "source": [
        "b = [1, 2, 3, 4, 5, 6, 7, 8, 9, 10]\n",
        "print(b[9], b[-1]) # Nell'indice di una lista si possono usare solo numeri entro i suo limiti dei quantità"
      ],
      "metadata": {
        "id": "l4fp2cvx7jR9"
      },
      "execution_count": null,
      "outputs": []
    },
    {
      "cell_type": "markdown",
      "source": [
        "Slicing"
      ],
      "metadata": {
        "id": "NUqVWiWC9lj4"
      }
    },
    {
      "cell_type": "code",
      "source": [
        "num = [0,1,2,3,4,5,6,7,8,9]\n",
        "#print degli elementi dal 3 al 6\n",
        "print(num[3:6]) \n",
        "#Visualizzazione degli ultimi sei elementi\n",
        "print(num[5:]) \n",
        "#Visualizzazione dei primi sei elementi\n",
        "print(num[:5])\n",
        "#Visualizzazione del penultimo e terzultimo numero\n",
        "print(num[-3:-1]) \n",
        "# L'ultimo :2 prende un numero ogni 2\n",
        "print(num[2:9:2]) "
      ],
      "metadata": {
        "id": "lClcNGXF85kc"
      },
      "execution_count": null,
      "outputs": []
    },
    {
      "cell_type": "markdown",
      "source": [
        "Built in List Functions"
      ],
      "metadata": {
        "id": "eWvvbtgnu2Fg"
      }
    },
    {
      "cell_type": "code",
      "source": [
        "# Built in List Functions\n",
        "9 in num"
      ],
      "metadata": {
        "id": "vgpu4pBY_9gk"
      },
      "execution_count": null,
      "outputs": []
    },
    {
      "cell_type": "code",
      "source": [
        "sy = \"la mamma è nella\"\n",
        "lista = list(sy)\n",
        "print(lista)"
      ],
      "metadata": {
        "id": "kRZyR33AApvN"
      },
      "execution_count": null,
      "outputs": []
    },
    {
      "cell_type": "code",
      "source": [
        "#Append aggiunge un elemento, che sia una lista o un singolo elemento\n",
        "#Extend aggiunge ogni elemento singolarmente presente di una lista\n",
        "lista = [0,1,2,3,4,5,6,7,8,9]\n",
        "lista.append(\"carlo\")\n",
        "print(lista)\n",
        "lista.append([10,19])\n",
        "print(lista)\n",
        "lista.extend([\"sony\",\"marco\"])\n",
        "print(lista)"
      ],
      "metadata": {
        "id": "FXmsZp09Bcud"
      },
      "execution_count": null,
      "outputs": []
    },
    {
      "cell_type": "markdown",
      "source": [
        "Carica in una lista i numeri 8, 17, -5, 4, 76, 9, 2 "
      ],
      "metadata": {
        "id": "rI1GYoLToq2e"
      }
    },
    {
      "cell_type": "code",
      "source": [
        "a = [8, 17, -5, 4, 76, 9, 2 ]\n",
        "#visualizzazione primo elemento\n",
        "print(a[0])\n",
        "#visualizzazione ultimo elemento\n",
        "print(a[-1])\n",
        "print(a[len(a)-1])"
      ],
      "metadata": {
        "id": "QsEkAJmKoJhb"
      },
      "execution_count": null,
      "outputs": []
    },
    {
      "cell_type": "code",
      "source": [
        "# aggiungere 7, 8, 4, 9 alla lista\n",
        "a.extend([7, 8, 4, 9 ])\n",
        "print(a)\n",
        "a.sort()\n",
        "print(a)\n",
        "carlo= 8\n",
        "try:\n",
        "  while True:\n",
        "   a.remove(carlo)\n",
        "except ValueError: # PASSA GLI ERRORI GODOPOLI\n",
        "      pass\n",
        "print(a)\n",
        "\n",
        "while 4 in a: # Neri mio padre\n",
        " a.remove(4)\n",
        "print(a)\n",
        "\n",
        "a = list(filter((7).__ne__, a)) # ne = not equal, filtra tutto quello che is not equal to 7\n",
        "print(a)"
      ],
      "metadata": {
        "colab": {
          "base_uri": "https://localhost:8080/"
        },
        "id": "QV_pV5h3pMmk",
        "outputId": "aaf04708-3fcf-46dc-905f-f19647520662"
      },
      "execution_count": null,
      "outputs": [
        {
          "output_type": "stream",
          "name": "stdout",
          "text": [
            "[-5, 2, 7, 7, 7, 7, 7, 7, 7, 7, 7, 7, 7, 7, 7, 9, 9, 9, 9, 9, 9, 9, 17, 76, 7, 8, 4, 9]\n",
            "[-5, 2, 4, 7, 7, 7, 7, 7, 7, 7, 7, 7, 7, 7, 7, 7, 7, 8, 9, 9, 9, 9, 9, 9, 9, 9, 17, 76]\n",
            "[-5, 2, 4, 7, 7, 7, 7, 7, 7, 7, 7, 7, 7, 7, 7, 7, 7, 9, 9, 9, 9, 9, 9, 9, 9, 17, 76]\n",
            "[-5, 2, 7, 7, 7, 7, 7, 7, 7, 7, 7, 7, 7, 7, 7, 7, 9, 9, 9, 9, 9, 9, 9, 9, 17, 76]\n",
            "[-5, 2, 9, 9, 9, 9, 9, 9, 9, 9, 17, 76]\n"
          ]
        }
      ]
    },
    {
      "cell_type": "code",
      "source": [
        "#  Contare il numero di volte che compare il numero 9\n",
        "a.count(9)\n"
      ],
      "metadata": {
        "colab": {
          "base_uri": "https://localhost:8080/"
        },
        "id": "JRAjxd3xrEY0",
        "outputId": "c711c1fb-4b3e-4f5d-e8eb-4c657c633496"
      },
      "execution_count": null,
      "outputs": [
        {
          "output_type": "execute_result",
          "data": {
            "text/plain": [
              "8"
            ]
          },
          "metadata": {},
          "execution_count": 43
        }
      ]
    },
    {
      "cell_type": "code",
      "source": [
        "print(a)\n",
        "# cercare l'indice del numero 8\n",
        "a.index(9)"
      ],
      "metadata": {
        "colab": {
          "base_uri": "https://localhost:8080/"
        },
        "id": "LHYSNpnL09UO",
        "outputId": "f692526b-abc5-410d-957b-f3fd2c0f7fa0"
      },
      "execution_count": null,
      "outputs": [
        {
          "output_type": "stream",
          "name": "stdout",
          "text": [
            "[-5, 2, 9, 9, 9, 9, 9, 9, 9, 9, 17, 76]\n"
          ]
        },
        {
          "output_type": "execute_result",
          "data": {
            "text/plain": [
              "2"
            ]
          },
          "metadata": {},
          "execution_count": 46
        }
      ]
    },
    {
      "cell_type": "code",
      "source": [
        "# Inserire il valore 0 prima del numero 17\n",
        "print(a)\n",
        "a.insert(a.index(17)+1, \"Carlo\")\n",
        "print(a) \n",
        "while \"Carlo\" in a: # Neri mio padre\n",
        " a.remove(\"Carlo\")"
      ],
      "metadata": {
        "colab": {
          "base_uri": "https://localhost:8080/"
        },
        "id": "JONNaoOI1h2O",
        "outputId": "b8354192-598e-423f-b0f2-4079c7583bf1"
      },
      "execution_count": null,
      "outputs": [
        {
          "output_type": "stream",
          "name": "stdout",
          "text": [
            "[-5, 2, 9, 9, 9, 9, 9, 9, 9, 9, 17, 76]\n",
            "[-5, 2, 9, 9, 9, 9, 9, 9, 9, 9, 17, 'Carlo', 76]\n"
          ]
        }
      ]
    },
    {
      "cell_type": "code",
      "source": [
        "a.pop()"
      ],
      "metadata": {
        "colab": {
          "base_uri": "https://localhost:8080/"
        },
        "id": "z8NbpE8E2vnm",
        "outputId": "c1f120a8-03f0-41d7-f7d0-4485056576aa"
      },
      "execution_count": null,
      "outputs": [
        {
          "output_type": "execute_result",
          "data": {
            "text/plain": [
              "76"
            ]
          },
          "metadata": {},
          "execution_count": 56
        }
      ]
    },
    {
      "cell_type": "code",
      "source": [
        "del a[1]\n",
        "print(a)"
      ],
      "metadata": {
        "id": "SVn-BhU-3ahm"
      },
      "execution_count": null,
      "outputs": []
    },
    {
      "cell_type": "code",
      "source": [
        "a.reverse()\n",
        "print(a)"
      ],
      "metadata": {
        "id": "p6xfGsZS3kLJ"
      },
      "execution_count": null,
      "outputs": []
    },
    {
      "cell_type": "code",
      "source": [
        "b= [2,1,4,3]\n",
        "c = b\n",
        "print(c)\n",
        "print(b)"
      ],
      "metadata": {
        "colab": {
          "base_uri": "https://localhost:8080/"
        },
        "id": "5c83QKe231IW",
        "outputId": "436ed860-749d-4cf9-8fe9-74a322032caf"
      },
      "execution_count": null,
      "outputs": [
        {
          "output_type": "stream",
          "name": "stdout",
          "text": [
            "[2, 1, 4, 3]\n",
            "[2, 1, 4, 3]\n"
          ]
        }
      ]
    },
    {
      "cell_type": "code",
      "source": [
        "b.pop()\n",
        "print(c)\n",
        "print(b)"
      ],
      "metadata": {
        "colab": {
          "base_uri": "https://localhost:8080/"
        },
        "id": "PtAxRMyB39su",
        "outputId": "1fb6e55e-1111-424d-a671-f44f97917a85"
      },
      "execution_count": null,
      "outputs": [
        {
          "output_type": "stream",
          "name": "stdout",
          "text": [
            "[2, 1, 4]\n",
            "[2, 1, 4]\n"
          ]
        }
      ]
    },
    {
      "cell_type": "markdown",
      "source": [
        "1. Inizializzare una lista con 8, 18, 27, -8, 51, 40, -9, -76\n",
        "2. Aggiungere in fondo alla lista i valori 7, 4, 95\n",
        "3. Aggiungere all'inizio della lista i valori 7, 4, 95\n",
        "4. Visualizzare il numer o di elememti della lista\n",
        "5. Aggiungere in quarta posizione il valore 100\n",
        "6. Eliminare il terzultimo elemento della lista\n",
        "7. Visualizzare il valore massimo, minimo della lista\n",
        "8. Calcolare la somma degli elementi della lista\n",
        "9. Calcolare la media degli elementi della lista\n",
        "10. Rimuovere dalla lista il numero 7\n",
        "11. Ordinare la lista in ordine decrescente\n",
        "12. Eliminare dalla lista il numero più alto e il numero più basso\n",
        "13. Visualizzare gli elementi di posto pari\n",
        "14. Visualizzare gli elementi di posto dispari\n",
        "15. Visualizzare i primi 5 elementi \n",
        "16. Visualizzare gli ultimi 5 elementi\n",
        "17. Visualizzare i 5 elementi centrali\n",
        "18. Rimuovere i duplicati presenti nella lista"
      ],
      "metadata": {
        "id": "foGGlLC75Kzn"
      }
    },
    {
      "cell_type": "code",
      "source": [
        "#1\n",
        "g = [8, 18, 27, -8, 51, 40, -9, -76]"
      ],
      "metadata": {
        "id": "lEEPVOTp5Kjn"
      },
      "execution_count": null,
      "outputs": []
    },
    {
      "cell_type": "code",
      "source": [
        "#2\n",
        "g.extend([7, 4, 95])\n",
        "print(g)"
      ],
      "metadata": {
        "colab": {
          "base_uri": "https://localhost:8080/"
        },
        "id": "D7heCDN06vyY",
        "outputId": "ce7ae168-9caf-47f9-d828-ebafb7af84d6"
      },
      "execution_count": null,
      "outputs": [
        {
          "output_type": "stream",
          "name": "stdout",
          "text": [
            "[8, 18, 27, -8, 51, -9, -76, 7, 4, 95]\n"
          ]
        }
      ]
    },
    {
      "cell_type": "code",
      "source": [
        "#3\n",
        "g.insert(0,7)\n",
        "g.insert(1,4)\n",
        "g.insert(2,95)\n",
        "print(g)"
      ],
      "metadata": {
        "colab": {
          "base_uri": "https://localhost:8080/"
        },
        "id": "VVcHkZFH7sQY",
        "outputId": "be3af4c0-4f21-4526-bfa4-e2e4bfc3a082"
      },
      "execution_count": null,
      "outputs": [
        {
          "output_type": "stream",
          "name": "stdout",
          "text": [
            "[7, 4, 95, 7, 4, 95, 8, 18, 27, -8, 51, 40, -9, -76, 7, 4, 95]\n"
          ]
        }
      ]
    },
    {
      "cell_type": "code",
      "source": [
        "#4\n",
        "print(len(g))"
      ],
      "metadata": {
        "colab": {
          "base_uri": "https://localhost:8080/"
        },
        "id": "ZjuCkao_75WW",
        "outputId": "d82e1370-fc6c-4668-94bd-6a74f182f6b7"
      },
      "execution_count": null,
      "outputs": [
        {
          "output_type": "stream",
          "name": "stdout",
          "text": [
            "17\n"
          ]
        }
      ]
    },
    {
      "cell_type": "code",
      "source": [
        "#5\n",
        "g.insert(3,100)"
      ],
      "metadata": {
        "id": "4TJrpwpz8Me4"
      },
      "execution_count": null,
      "outputs": []
    },
    {
      "cell_type": "code",
      "source": [
        "#6\n",
        "g = [8, 18, 27, -8, 51, 40, -9, -76]\n",
        "del g[-3]\n",
        "print(g)"
      ],
      "metadata": {
        "colab": {
          "base_uri": "https://localhost:8080/"
        },
        "id": "82e0JMNI8egH",
        "outputId": "89f00cc0-b175-4273-836d-8eaa996cfc4c"
      },
      "execution_count": null,
      "outputs": [
        {
          "output_type": "stream",
          "name": "stdout",
          "text": [
            "[8, 18, 27, -8, 51, -9, -76]\n"
          ]
        }
      ]
    },
    {
      "cell_type": "code",
      "source": [
        "#7\n",
        "g = [8, 18, 27, -8, 51, 40, -9, -76]\n",
        "g.sort()\n",
        "print(g[0])\n",
        "print(g[-1])"
      ],
      "metadata": {
        "colab": {
          "base_uri": "https://localhost:8080/"
        },
        "id": "roiXOQkn9Ep_",
        "outputId": "5a1159ce-3cb1-4044-cf15-586b51fa2262"
      },
      "execution_count": null,
      "outputs": [
        {
          "output_type": "stream",
          "name": "stdout",
          "text": [
            "-76\n",
            "51\n"
          ]
        }
      ]
    },
    {
      "cell_type": "code",
      "source": [
        "#8\n",
        "print(g)\n",
        "print(sum(g))"
      ],
      "metadata": {
        "colab": {
          "base_uri": "https://localhost:8080/"
        },
        "id": "oHUzf6Q19RK3",
        "outputId": "4d13c0e5-fdb6-4c29-f6cf-80d43f028fc9"
      },
      "execution_count": null,
      "outputs": [
        {
          "output_type": "stream",
          "name": "stdout",
          "text": [
            "[-76, -9, -8, 8, 18, 27, 40, 51]\n",
            "51\n"
          ]
        }
      ]
    },
    {
      "cell_type": "code",
      "source": [
        "#9\n",
        "sum(g)/len(g)"
      ],
      "metadata": {
        "colab": {
          "base_uri": "https://localhost:8080/"
        },
        "id": "gRoZ1wmf-nHx",
        "outputId": "016dabc6-058f-4b3d-eacb-7e6c9830beb8"
      },
      "execution_count": null,
      "outputs": [
        {
          "output_type": "execute_result",
          "data": {
            "text/plain": [
              "6.375"
            ]
          },
          "metadata": {},
          "execution_count": 115
        }
      ]
    },
    {
      "cell_type": "code",
      "source": [
        "#10\n",
        "g.remove(7)\n",
        "print(g)"
      ],
      "metadata": {
        "colab": {
          "base_uri": "https://localhost:8080/"
        },
        "id": "FMgzTcxc-za3",
        "outputId": "fd4590a9-1f34-4440-8cf1-c25dd74f432f"
      },
      "execution_count": null,
      "outputs": [
        {
          "output_type": "stream",
          "name": "stdout",
          "text": [
            "[51, 40, 27, 18, 8, -8, -9, -76]\n"
          ]
        }
      ]
    },
    {
      "cell_type": "code",
      "source": [
        "#11\n",
        "g.reverse()\n",
        "print(g)"
      ],
      "metadata": {
        "colab": {
          "base_uri": "https://localhost:8080/"
        },
        "id": "hgylYQd5-zUQ",
        "outputId": "871d36d2-eeb9-482e-d89d-def3900a970d"
      },
      "execution_count": null,
      "outputs": [
        {
          "output_type": "stream",
          "name": "stdout",
          "text": [
            "[51, 40, 27, 18, 8, -8, -9, -76]\n"
          ]
        }
      ]
    },
    {
      "cell_type": "code",
      "source": [
        "#12\n",
        "del g[0]\n",
        "del g[-1]\n",
        "print(g)\n"
      ],
      "metadata": {
        "id": "AN12zkPh_VlJ",
        "colab": {
          "base_uri": "https://localhost:8080/"
        },
        "outputId": "a2ea5db3-f53e-4c1b-e166-ed0a50bae057"
      },
      "execution_count": null,
      "outputs": [
        {
          "output_type": "stream",
          "name": "stdout",
          "text": [
            "[18, 27, -8, 51, 40, -9]\n"
          ]
        }
      ]
    },
    {
      "cell_type": "code",
      "source": [
        "#13\n",
        "print(g[0:len(g)-1:2])"
      ],
      "metadata": {
        "id": "DB7fBs78__Fh",
        "colab": {
          "base_uri": "https://localhost:8080/"
        },
        "outputId": "19240b9c-9855-4384-f13d-ab0537fb281d"
      },
      "execution_count": null,
      "outputs": [
        {
          "output_type": "stream",
          "name": "stdout",
          "text": [
            "[18, -8, 40]\n"
          ]
        }
      ]
    },
    {
      "cell_type": "code",
      "source": [
        "#14\n",
        "print(g[1:len(g):2])"
      ],
      "metadata": {
        "colab": {
          "base_uri": "https://localhost:8080/"
        },
        "id": "CS-TubZ9Djxg",
        "outputId": "12a0f2c9-3afc-4c00-d4b8-53f3d0927c61"
      },
      "execution_count": null,
      "outputs": [
        {
          "output_type": "stream",
          "name": "stdout",
          "text": [
            "[27, 51, -9]\n"
          ]
        }
      ]
    },
    {
      "cell_type": "code",
      "source": [
        "#15\n",
        "print(g[:5])"
      ],
      "metadata": {
        "colab": {
          "base_uri": "https://localhost:8080/"
        },
        "id": "UjpAXjl2Fl9M",
        "outputId": "52eae327-9ad6-40f2-b0bf-44b0b4cf42b1"
      },
      "execution_count": null,
      "outputs": [
        {
          "output_type": "stream",
          "name": "stdout",
          "text": [
            "[18, 27, -8, 51, 40]\n"
          ]
        }
      ]
    },
    {
      "cell_type": "code",
      "source": [
        "#16\n",
        "print(g[-5:])"
      ],
      "metadata": {
        "colab": {
          "base_uri": "https://localhost:8080/"
        },
        "id": "Afa5Pp8dFsdK",
        "outputId": "ed093abb-ad18-4960-a0a0-b8a118e2574e"
      },
      "execution_count": null,
      "outputs": [
        {
          "output_type": "stream",
          "name": "stdout",
          "text": [
            "[-8, 51, 40, -9, -76]\n"
          ]
        }
      ]
    },
    {
      "cell_type": "code",
      "source": [
        "#17\n",
        "print(g)\n",
        "u = int(len(g)/2)\n",
        "print(g[u-2:u+3])"
      ],
      "metadata": {
        "colab": {
          "base_uri": "https://localhost:8080/"
        },
        "id": "JwcH7NwYGBV3",
        "outputId": "c2978bc3-0629-498f-a44c-ef1514ac2cad"
      },
      "execution_count": null,
      "outputs": [
        {
          "output_type": "stream",
          "name": "stdout",
          "text": [
            "[8, 18, 27, 100, -8, 51, 40, -9, -76]\n",
            "[27, 100, -8, 51, 40]\n"
          ]
        }
      ]
    },
    {
      "cell_type": "code",
      "source": [],
      "metadata": {
        "id": "zOX-vNi9dAnq"
      },
      "execution_count": null,
      "outputs": []
    }
  ]
}