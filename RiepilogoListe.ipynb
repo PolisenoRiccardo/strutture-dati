{
  "nbformat": 4,
  "nbformat_minor": 0,
  "metadata": {
    "colab": {
      "provenance": [],
      "authorship_tag": "ABX9TyMoj7se/6y0E+V6qcL56BxY",
      "include_colab_link": true
    },
    "kernelspec": {
      "name": "python3",
      "display_name": "Python 3"
    },
    "language_info": {
      "name": "python"
    }
  },
  "cells": [
    {
      "cell_type": "markdown",
      "metadata": {
        "id": "view-in-github",
        "colab_type": "text"
      },
      "source": [
        "<a href=\"https://colab.research.google.com/github/PolisenoRiccardo/python/blob/main/RiepilogoListe.ipynb\" target=\"_parent\"><img src=\"https://colab.research.google.com/assets/colab-badge.svg\" alt=\"Open In Colab\"/></a>"
      ]
    },
    {
      "cell_type": "markdown",
      "source": [
        "Questo notebook contiene informazioni fondamentali per lavorare sulle liste."
      ],
      "metadata": {
        "id": "i1mmDeoVDpTy"
      }
    },
    {
      "cell_type": "markdown",
      "source": [
        "Lista:\n",
        "La lista è una struttura di dati dinamica, utilizzata per memorizzare in modo \n",
        "non permanente.\n",
        "\n",
        "Dinamico:\n",
        "La dimensione della lista non deve essere fissata a priori.\n",
        "\n",
        "Non permanente:\n",
        "I dati memorizzati dalla lista vengono cancellati quando si chiude il notebook, salvataggio nella RAM."
      ],
      "metadata": {
        "id": "CC7coC23D6gD"
      }
    },
    {
      "cell_type": "markdown",
      "source": [
        "1. Inizializzazione di una lista"
      ],
      "metadata": {
        "id": "yEk5ZKDNFcvx"
      }
    },
    {
      "cell_type": "code",
      "source": [
        "lista = [1, 2, 3, 4, 5, 6]"
      ],
      "metadata": {
        "id": "L19JcxPMGcyJ"
      },
      "execution_count": 25,
      "outputs": []
    },
    {
      "cell_type": "markdown",
      "source": [
        "2. Inserimento di elementi"
      ],
      "metadata": {
        "id": "s8bzMjkSFf64"
      }
    },
    {
      "cell_type": "code",
      "source": [
        "lista.extend([7, 8]) #Inserisce ogni dato alla fine della lista \n",
        "lista.append([9,10]) #Inserisce un'ulteriore lista alla fine della lista \n",
        "lista.insert(5, 5.5) #Inserisce un dato in una posizione da specificare\n",
        "print(lista)"
      ],
      "metadata": {
        "colab": {
          "base_uri": "https://localhost:8080/"
        },
        "id": "B9Nkk4nqGdio",
        "outputId": "db59df1f-2a3b-4861-cbc9-8d1ebe16e171"
      },
      "execution_count": 14,
      "outputs": [
        {
          "output_type": "stream",
          "name": "stdout",
          "text": [
            "[1, 2, 3, 4, 5, 5.5, 6, 7, 8, [9, 10]]\n"
          ]
        }
      ]
    },
    {
      "cell_type": "markdown",
      "source": [
        "3. Visualizzazione elementi della lista"
      ],
      "metadata": {
        "id": "eqRCMSjWFldw"
      }
    },
    {
      "cell_type": "code",
      "source": [
        "print(lista) "
      ],
      "metadata": {
        "id": "e_eDvkiCGeEo"
      },
      "execution_count": null,
      "outputs": []
    },
    {
      "cell_type": "markdown",
      "source": [
        "4. Rimozione di elementi dalla lista"
      ],
      "metadata": {
        "id": "8rZuECNsFtnY"
      }
    },
    {
      "cell_type": "code",
      "source": [
        "lista.remove(5.5) #Rimuove la prima occorrenza o istanza del numero nella parentesi\n",
        "lista.pop(5) #Rimuove l'elemento di posizione 5\n",
        "del lista [10] #Rimuove l'elemento di posizione 10\n",
        "print(lista)"
      ],
      "metadata": {
        "id": "VS8eoO5KGerY"
      },
      "execution_count": null,
      "outputs": []
    },
    {
      "cell_type": "markdown",
      "source": [
        "5. Aggiunta di elementi dalla lista"
      ],
      "metadata": {
        "id": "0PD7HWUyFxyY"
      }
    },
    {
      "cell_type": "code",
      "source": [
        "lista.extend([7, 8]) #Inserisce ogni dato alla fine della lista \n",
        "lista.append([9,10]) #Inserisce un'ulteriore lista alla fine della lista \n",
        "lista.insert(5, 5.5) #Inserisce un dato in una posizione da specificare\n",
        "print(lista)"
      ],
      "metadata": {
        "id": "5EGBKrRYGe7o"
      },
      "execution_count": null,
      "outputs": []
    },
    {
      "cell_type": "markdown",
      "source": [
        "6. Visualizzazione di un elemento o più elementi in una lista"
      ],
      "metadata": {
        "id": "vTzITgoVF0Jo"
      }
    },
    {
      "cell_type": "code",
      "source": [
        "print(lista[4]) #Visualizza l'elemento della posizione 4\n",
        "print(lista[-1]) #Visualizza l'ultimo elemento\n",
        "print(lista[2:6]) #Visualizza gli elementi dalla posizione 2 alla 5 ( -Slicing- )\n",
        "print(lista[2:10:2]) #Visualizza gli elementi dalla posizione 2 alla 10 ogni 2 ( -Slicing- )\n",
        "print(lista[4:]) #Visualizza gli elementi dalla posizione 4 in poi ( -Slicing- )\n",
        "print(lista[:4]) #Visualizza gli elementi dalla posizione 4 in giù ( -Slicing- )\n",
        "print(lista[::4]) #Visualizza tutti i numeri ogni 4 ( -Slicing- )"
      ],
      "metadata": {
        "colab": {
          "base_uri": "https://localhost:8080/"
        },
        "id": "mYrlmr9-GfVw",
        "outputId": "2527fd89-be3a-4da1-8398-10671c4c6d0a"
      },
      "execution_count": 17,
      "outputs": [
        {
          "output_type": "stream",
          "name": "stdout",
          "text": [
            "5\n",
            "[9, 10]\n",
            "[3, 4, 5, 5.5]\n",
            "[3, 5, 6, 8]\n",
            "[5, 5.5, 6, 7, 8, [9, 10]]\n",
            "[1, 2, 3, 4]\n",
            "[1, 5, 8]\n"
          ]
        }
      ]
    },
    {
      "cell_type": "markdown",
      "source": [
        "7. Trovare minimo e massimo in una lista"
      ],
      "metadata": {
        "id": "6n2wRKdQF7PA"
      }
    },
    {
      "cell_type": "code",
      "source": [
        "min(lista)\n",
        "max(lista)"
      ],
      "metadata": {
        "colab": {
          "base_uri": "https://localhost:8080/"
        },
        "id": "yknYcGpNGgWg",
        "outputId": "1a789ccf-27b9-437d-aed9-019d4a47381d"
      },
      "execution_count": 26,
      "outputs": [
        {
          "output_type": "execute_result",
          "data": {
            "text/plain": [
              "6"
            ]
          },
          "metadata": {},
          "execution_count": 26
        }
      ]
    },
    {
      "cell_type": "markdown",
      "source": [
        "8. Effetuare operazioni tra gli elementi della lista"
      ],
      "metadata": {
        "id": "LE5Xm2TrGaig"
      }
    },
    {
      "cell_type": "code",
      "source": [
        "sum(lista) #Calcola la somma degli elementi di una lista\n",
        "from statistics import mean \n",
        "mean(lista) #Calcola la media degli elementi di una lista\n",
        "len(lista) #Conta la lunghezza della vista"
      ],
      "metadata": {
        "colab": {
          "base_uri": "https://localhost:8080/"
        },
        "id": "2nlO94jLGguQ",
        "outputId": "11faf24f-9784-462b-a4b7-0cd69c11a51d"
      },
      "execution_count": 36,
      "outputs": [
        {
          "output_type": "execute_result",
          "data": {
            "text/plain": [
              "3.5"
            ]
          },
          "metadata": {},
          "execution_count": 36
        }
      ]
    },
    {
      "cell_type": "markdown",
      "source": [
        "9. Ordinare gli elementi di una lista"
      ],
      "metadata": {
        "id": "Lplhta_IGT2j"
      }
    },
    {
      "cell_type": "code",
      "source": [
        "lista.sort() #Ordina in ordine crescente una lista\n",
        "print(lista)\n",
        "lista.sort(reverse=True) #Ordina in ordine decrescente una lista\n",
        "print(lista)"
      ],
      "metadata": {
        "colab": {
          "base_uri": "https://localhost:8080/"
        },
        "id": "9Vr_pclUGhPI",
        "outputId": "31225ba5-406c-46e2-94c8-7b60a2f19fc0"
      },
      "execution_count": 40,
      "outputs": [
        {
          "output_type": "stream",
          "name": "stdout",
          "text": [
            "[1, 2, 3, 4, 5, 6]\n",
            "[6, 5, 4, 3, 2, 1]\n"
          ]
        }
      ]
    },
    {
      "cell_type": "markdown",
      "source": [
        "Controllo della presenza di un elemento nella lista."
      ],
      "metadata": {
        "id": "szWkpJEoOaVG"
      }
    },
    {
      "cell_type": "code",
      "source": [
        "4 in lista"
      ],
      "metadata": {
        "colab": {
          "base_uri": "https://localhost:8080/"
        },
        "id": "MeD40jqlOs1G",
        "outputId": "f750e054-3974-4280-c6d1-5f81ff32e5c6"
      },
      "execution_count": 43,
      "outputs": [
        {
          "output_type": "execute_result",
          "data": {
            "text/plain": [
              "True"
            ]
          },
          "metadata": {},
          "execution_count": 43
        }
      ]
    }
  ]
}