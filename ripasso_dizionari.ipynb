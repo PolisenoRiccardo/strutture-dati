{
  "nbformat": 4,
  "nbformat_minor": 0,
  "metadata": {
    "colab": {
      "provenance": []
    },
    "kernelspec": {
      "name": "python3",
      "display_name": "Python 3"
    },
    "language_info": {
      "name": "python"
    }
  },
  "cells": [
    {
      "cell_type": "code",
      "source": [
        "dizionarioITEN = {'uno': 'one', 'due': 'two', 'tre': 'three', 'quattro': 'four'}\n",
        "dizionarioITEN"
      ],
      "metadata": {
        "colab": {
          "base_uri": "https://localhost:8080/"
        },
        "id": "87BikGKrh_3J",
        "outputId": "9cc1804c-b5ff-42a5-ae26-63f4a99ecb35"
      },
      "execution_count": null,
      "outputs": [
        {
          "output_type": "execute_result",
          "data": {
            "text/plain": [
              "{'uno': 'one', 'due': 'two', 'tre': 'three', 'quattro': 'four'}"
            ]
          },
          "metadata": {},
          "execution_count": 1
        }
      ]
    },
    {
      "cell_type": "code",
      "source": [
        "dizionarioITEN = dict(uno = 'one', due = 'two', tre = 'three', quattro = 'four')\n",
        "dizionarioITEN"
      ],
      "metadata": {
        "colab": {
          "base_uri": "https://localhost:8080/"
        },
        "id": "KCVnF4VShfdQ",
        "outputId": "178d0674-a675-4a58-874c-9560babeb3d8"
      },
      "execution_count": null,
      "outputs": [
        {
          "output_type": "execute_result",
          "data": {
            "text/plain": [
              "{'uno': 'one', 'due': 'two', 'tre': 'three', 'quattro': 'four'}"
            ]
          },
          "metadata": {},
          "execution_count": 2
        }
      ]
    },
    {
      "cell_type": "code",
      "source": [
        "dizionarioITEN = dict([('uno', 'one'), ('due', 'two'), ('tre', 'three'), ('quattro', 'four')])\n",
        "dizionarioITEN"
      ],
      "metadata": {
        "colab": {
          "base_uri": "https://localhost:8080/"
        },
        "id": "t2WjPDoDiKrb",
        "outputId": "ce3f7e14-9706-4291-a0f0-618e1a325fec"
      },
      "execution_count": null,
      "outputs": [
        {
          "output_type": "execute_result",
          "data": {
            "text/plain": [
              "{'uno': 'one', 'due': 'two', 'tre': 'three', 'quattro': 'four'}"
            ]
          },
          "metadata": {},
          "execution_count": 3
        }
      ]
    },
    {
      "cell_type": "code",
      "source": [
        "numeriItaliani = ['uno', 'due', 'tre', 'quattro']"
      ],
      "metadata": {
        "id": "M2FygeFxdPkW"
      },
      "execution_count": null,
      "outputs": []
    },
    {
      "cell_type": "code",
      "source": [
        "englishNumbers = ['one', 'two', 'three', 'four']"
      ],
      "metadata": {
        "id": "rP_0WP6-dYv2"
      },
      "execution_count": null,
      "outputs": []
    },
    {
      "cell_type": "code",
      "source": [
        "dizionarioITEN = dict((numeroItaliano, englishNumber) for numeroItaliano, englishNumber in zip(numeriItaliani, englishNumbers))\n",
        "dizionarioITEN"
      ],
      "metadata": {
        "colab": {
          "base_uri": "https://localhost:8080/"
        },
        "id": "YD2XVuoEdgsg",
        "outputId": "ac70a14a-78c9-4ab8-846b-60b9b4f29cbb"
      },
      "execution_count": null,
      "outputs": [
        {
          "output_type": "execute_result",
          "data": {
            "text/plain": [
              "{'uno': 'one', 'due': 'two', 'tre': 'three', 'quattro': 'four'}"
            ]
          },
          "metadata": {},
          "execution_count": 6
        }
      ]
    },
    {
      "cell_type": "code",
      "source": [
        "len(dizionarioITEN)"
      ],
      "metadata": {
        "colab": {
          "base_uri": "https://localhost:8080/"
        },
        "id": "T8XFfup8gwut",
        "outputId": "69158444-c507-4862-e4de-71140f9cdfe4"
      },
      "execution_count": null,
      "outputs": [
        {
          "output_type": "execute_result",
          "data": {
            "text/plain": [
              "4"
            ]
          },
          "metadata": {},
          "execution_count": 7
        }
      ]
    },
    {
      "cell_type": "code",
      "source": [
        "dizionarioITEN['cinque'] = 'five'\n",
        "dizionarioITEN"
      ],
      "metadata": {
        "colab": {
          "base_uri": "https://localhost:8080/"
        },
        "id": "S4hCQZrseBBU",
        "outputId": "72df8df7-e0af-461a-c7d1-a9589de9f126"
      },
      "execution_count": null,
      "outputs": [
        {
          "output_type": "execute_result",
          "data": {
            "text/plain": [
              "{'uno': 'one',\n",
              " 'due': 'two',\n",
              " 'tre': 'three',\n",
              " 'quattro': 'four',\n",
              " 'cinque': 'five'}"
            ]
          },
          "metadata": {},
          "execution_count": 8
        }
      ]
    },
    {
      "cell_type": "code",
      "source": [
        "dizionarioITEN['due']"
      ],
      "metadata": {
        "colab": {
          "base_uri": "https://localhost:8080/",
          "height": 35
        },
        "id": "RHIH5t1WeMS7",
        "outputId": "54d0e1c8-230d-4c96-d6b3-02ba871256b6"
      },
      "execution_count": null,
      "outputs": [
        {
          "output_type": "execute_result",
          "data": {
            "text/plain": [
              "'two'"
            ],
            "application/vnd.google.colaboratory.intrinsic+json": {
              "type": "string"
            }
          },
          "metadata": {},
          "execution_count": 9
        }
      ]
    },
    {
      "cell_type": "code",
      "source": [
        "dizionarioITEN['dues']"
      ],
      "metadata": {
        "colab": {
          "base_uri": "https://localhost:8080/",
          "height": 165
        },
        "id": "arVcDDIbeTZ7",
        "outputId": "727aea76-8ac0-48f8-fabf-c9d94dafc097"
      },
      "execution_count": null,
      "outputs": [
        {
          "output_type": "error",
          "ename": "KeyError",
          "evalue": "ignored",
          "traceback": [
            "\u001b[0;31m---------------------------------------------------------------------------\u001b[0m",
            "\u001b[0;31mKeyError\u001b[0m                                  Traceback (most recent call last)",
            "\u001b[0;32m<ipython-input-10-5dbd321857d1>\u001b[0m in \u001b[0;36m<module>\u001b[0;34m\u001b[0m\n\u001b[0;32m----> 1\u001b[0;31m \u001b[0mdizionarioITEN\u001b[0m\u001b[0;34m[\u001b[0m\u001b[0;34m'dues'\u001b[0m\u001b[0;34m]\u001b[0m\u001b[0;34m\u001b[0m\u001b[0;34m\u001b[0m\u001b[0m\n\u001b[0m",
            "\u001b[0;31mKeyError\u001b[0m: 'dues'"
          ]
        }
      ]
    },
    {
      "cell_type": "code",
      "source": [
        "if 'dues' in dizionarioITEN.keys():\n",
        "  print(dizionarioITEN['dues'])\n",
        "else:\n",
        "  print('chiave non presente')"
      ],
      "metadata": {
        "colab": {
          "base_uri": "https://localhost:8080/"
        },
        "id": "Dtv3BR8Mei31",
        "outputId": "3a320ef0-1d78-49b7-b661-f7ec54c352c9"
      },
      "execution_count": null,
      "outputs": [
        {
          "output_type": "stream",
          "name": "stdout",
          "text": [
            "chiave non presente\n"
          ]
        }
      ]
    },
    {
      "cell_type": "code",
      "source": [
        "if 'dues' in dizionarioITEN:\n",
        "  print(dizionarioITEN['dues'])\n",
        "else:\n",
        "  print('chiave non presente')"
      ],
      "metadata": {
        "colab": {
          "base_uri": "https://localhost:8080/"
        },
        "id": "BTHNollLf8jD",
        "outputId": "859135fc-e649-4a2e-f5f9-c73b094c3b05"
      },
      "execution_count": null,
      "outputs": [
        {
          "output_type": "stream",
          "name": "stdout",
          "text": [
            "chiave non presente\n"
          ]
        }
      ]
    },
    {
      "cell_type": "code",
      "source": [
        "dizionarioITEN.get('dues', 'chiave non presente')"
      ],
      "metadata": {
        "colab": {
          "base_uri": "https://localhost:8080/",
          "height": 35
        },
        "id": "QwYcz9Mqi8GV",
        "outputId": "578fc8f9-6989-4831-bf87-867ae54b47c2"
      },
      "execution_count": null,
      "outputs": [
        {
          "output_type": "execute_result",
          "data": {
            "text/plain": [
              "'chiave non presente'"
            ],
            "application/vnd.google.colaboratory.intrinsic+json": {
              "type": "string"
            }
          },
          "metadata": {},
          "execution_count": 13
        }
      ]
    },
    {
      "cell_type": "code",
      "source": [
        "dizionarioITEN.setdefault('sei', 'six') #se la chiave non c'è, la inserisce, nel caso contrario l'aggiorna"
      ],
      "metadata": {
        "colab": {
          "base_uri": "https://localhost:8080/",
          "height": 35
        },
        "id": "XpbsodFTjiq1",
        "outputId": "9d93c223-c151-45ec-939d-6ea69b4ccada"
      },
      "execution_count": null,
      "outputs": [
        {
          "output_type": "execute_result",
          "data": {
            "text/plain": [
              "'six'"
            ],
            "application/vnd.google.colaboratory.intrinsic+json": {
              "type": "string"
            }
          },
          "metadata": {},
          "execution_count": 14
        }
      ]
    },
    {
      "cell_type": "code",
      "source": [
        "dizionarioITEN"
      ],
      "metadata": {
        "colab": {
          "base_uri": "https://localhost:8080/"
        },
        "id": "XZZi5J5cDOaR",
        "outputId": "2e3b5d51-a1b2-4d52-ddc7-7447f8e3399a"
      },
      "execution_count": null,
      "outputs": [
        {
          "output_type": "execute_result",
          "data": {
            "text/plain": [
              "{'uno': 'one',\n",
              " 'due': 'two',\n",
              " 'tre': 'three',\n",
              " 'quattro': 'four',\n",
              " 'cinque': 'five',\n",
              " 'sei': 'six'}"
            ]
          },
          "metadata": {},
          "execution_count": 19
        }
      ]
    },
    {
      "cell_type": "code",
      "source": [
        "if 'two' in dizionarioITEN.values():\n",
        "  print('valore presente')\n",
        "else:\n",
        "  print('valore non presente')"
      ],
      "metadata": {
        "colab": {
          "base_uri": "https://localhost:8080/"
        },
        "id": "W3mMv40Nebqk",
        "outputId": "fb2eee7c-4e78-4197-a0e9-a2314c38feaa"
      },
      "execution_count": null,
      "outputs": [
        {
          "output_type": "stream",
          "name": "stdout",
          "text": [
            "valore presente\n"
          ]
        }
      ]
    },
    {
      "cell_type": "code",
      "source": [
        "for number in dizionarioITEN.values():\n",
        "  print(number)"
      ],
      "metadata": {
        "colab": {
          "base_uri": "https://localhost:8080/"
        },
        "id": "V7hk9LhFff15",
        "outputId": "8b692cee-0fd9-454c-e15e-eb5b9d1d30ef"
      },
      "execution_count": null,
      "outputs": [
        {
          "output_type": "stream",
          "name": "stdout",
          "text": [
            "one\n",
            "two\n",
            "three\n",
            "four\n",
            "five\n",
            "six\n"
          ]
        }
      ]
    },
    {
      "cell_type": "code",
      "source": [
        "for number in dizionarioITEN:\n",
        "  print(number)"
      ],
      "metadata": {
        "colab": {
          "base_uri": "https://localhost:8080/"
        },
        "id": "tuRNBS0mEDbw",
        "outputId": "abd5be95-1541-4ab3-cb8d-866b72337940"
      },
      "execution_count": null,
      "outputs": [
        {
          "output_type": "stream",
          "name": "stdout",
          "text": [
            "uno\n",
            "due\n",
            "tre\n",
            "quattro\n",
            "cinque\n",
            "sei\n"
          ]
        }
      ]
    },
    {
      "cell_type": "code",
      "source": [
        "for numero, number in dizionarioITEN.items():\n",
        "  print(numero, '-', number)"
      ],
      "metadata": {
        "colab": {
          "base_uri": "https://localhost:8080/"
        },
        "id": "PduutaFzfpVE",
        "outputId": "294a8efb-3f92-4b6f-956d-bc6f9d92cbaa"
      },
      "execution_count": null,
      "outputs": [
        {
          "output_type": "stream",
          "name": "stdout",
          "text": [
            "uno - one\n",
            "due - two\n",
            "tre - three\n",
            "quattro - four\n",
            "cinque - five\n",
            "sei - six\n"
          ]
        }
      ]
    },
    {
      "cell_type": "code",
      "source": [
        "for numero in dizionarioITEN:\n",
        "  print(numero, '-', dizionarioITEN[numero])"
      ],
      "metadata": {
        "colab": {
          "base_uri": "https://localhost:8080/"
        },
        "id": "jJ9JxcqZgN4V",
        "outputId": "1b41e527-ea83-414a-aff6-ff07b9e92e3f"
      },
      "execution_count": null,
      "outputs": [
        {
          "output_type": "stream",
          "name": "stdout",
          "text": [
            "uno - one\n",
            "due - two\n",
            "tre - three\n",
            "quattro - four\n",
            "cinque - five\n",
            "sei - six\n"
          ]
        }
      ]
    },
    {
      "cell_type": "code",
      "source": [
        "studenti3E = [{'generalità':{'nome': 'Ernest', 'cognome':'Avasiloae'}, 'città':'Sansonia'},{'generalità':{'nome': 'Carlo', 'cognome':'Avasiloae'}, 'città':'Milano'},{'generalità':{'nome': 'Sono', 'cognome':'Avasiloae'}, 'città':'Cando'}]\n",
        "print(studenti3E)\n",
        "\n",
        "nomi = ['Andre', 'Carlo', 'Soni', 'Kokko', 'Teyvat', 'Sonidel', 'Carlo2']\n",
        "anni = [1,2,5,7,8,0,6]\n",
        "studi = [{'nome':nomi[indice],'anni':anni[indice]} for indice in range(len(anni))]\n",
        "studi"
      ],
      "metadata": {
        "colab": {
          "base_uri": "https://localhost:8080/"
        },
        "id": "w2sEIJv7EnaP",
        "outputId": "235f3706-50b9-4b55-d1b4-756ba0f1e66a"
      },
      "execution_count": null,
      "outputs": [
        {
          "output_type": "stream",
          "name": "stdout",
          "text": [
            "[{'generalità': {'nome': 'Ernest', 'cognome': 'Avasiloae'}, 'città': 'Sansonia'}, {'generalità': {'nome': 'Carlo', 'cognome': 'Avasiloae'}, 'città': 'Milano'}, {'generalità': {'nome': 'Sono', 'cognome': 'Avasiloae'}, 'città': 'Cando'}]\n"
          ]
        },
        {
          "output_type": "execute_result",
          "data": {
            "text/plain": [
              "[{'nome': 'Andre', 'anni': 1},\n",
              " {'nome': 'Carlo', 'anni': 2},\n",
              " {'nome': 'Soni', 'anni': 5},\n",
              " {'nome': 'Kokko', 'anni': 7},\n",
              " {'nome': 'Teyvat', 'anni': 8},\n",
              " {'nome': 'Sonidel', 'anni': 0},\n",
              " {'nome': 'Carlo2', 'anni': 6}]"
            ]
          },
          "metadata": {},
          "execution_count": 51
        }
      ]
    },
    {
      "cell_type": "code",
      "source": [
        "for stud in studi:\n",
        "  print(stud)"
      ],
      "metadata": {
        "colab": {
          "base_uri": "https://localhost:8080/"
        },
        "id": "QYWjVShoJb-9",
        "outputId": "dbcd19e4-c718-4fbf-a502-b000db758933"
      },
      "execution_count": null,
      "outputs": [
        {
          "output_type": "stream",
          "name": "stdout",
          "text": [
            "{'nome': 'Andre', 'anni': 1}\n",
            "{'nome': 'Carlo', 'anni': 2}\n",
            "{'nome': 'Soni', 'anni': 5}\n",
            "{'nome': 'Kokko', 'anni': 7}\n",
            "{'nome': 'Teyvat', 'anni': 8}\n",
            "{'nome': 'Sonidel', 'anni': 0}\n",
            "{'nome': 'Carlo2', 'anni': 6}\n"
          ]
        }
      ]
    },
    {
      "cell_type": "code",
      "source": [
        "studenti3E[1]['generalità']['nome']"
      ],
      "metadata": {
        "colab": {
          "base_uri": "https://localhost:8080/",
          "height": 35
        },
        "id": "YKWZm3zDJ4nU",
        "outputId": "8dd1cbdd-80bc-4fc7-8699-c28e7dd1d1ca"
      },
      "execution_count": null,
      "outputs": [
        {
          "output_type": "execute_result",
          "data": {
            "text/plain": [
              "'Carlo'"
            ],
            "application/vnd.google.colaboratory.intrinsic+json": {
              "type": "string"
            }
          },
          "metadata": {},
          "execution_count": 60
        }
      ]
    },
    {
      "cell_type": "code",
      "source": [
        "studenti3Etris = [{'generalità':{'nome': 'Ernest', 'cognome':'Avasiloae', 'telefono':{'Primo numero':'112', 'Secondo Numero':'911'}}, 'città':'Sansonia'},{'generalità':{'nome': 'Carlo', 'cognome':'Avasiloae'}, 'città':'Milano'},{'generalità':{'nome': 'Sono', 'cognome':'Avasiloae'}, 'città':'Cando'}]"
      ],
      "metadata": {
        "colab": {
          "base_uri": "https://localhost:8080/"
        },
        "id": "748QQthbMpaE",
        "outputId": "897e8c21-9fed-4c9b-8501-38d13eb60d86"
      },
      "execution_count": null,
      "outputs": [
        {
          "output_type": "execute_result",
          "data": {
            "text/plain": [
              "tuple"
            ]
          },
          "metadata": {},
          "execution_count": 65
        }
      ]
    }
  ]
}