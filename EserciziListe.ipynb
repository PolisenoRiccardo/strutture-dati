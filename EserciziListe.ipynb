{
  "nbformat": 4,
  "nbformat_minor": 0,
  "metadata": {
    "colab": {
      "provenance": [],
      "collapsed_sections": [],
      "authorship_tag": "ABX9TyNaYSjIlKkw+tDbK71Dr9Bt",
      "include_colab_link": true
    },
    "kernelspec": {
      "name": "python3",
      "display_name": "Python 3"
    },
    "language_info": {
      "name": "python"
    }
  },
  "cells": [
    {
      "cell_type": "markdown",
      "metadata": {
        "id": "view-in-github",
        "colab_type": "text"
      },
      "source": [
        "<a href=\"https://colab.research.google.com/github/PolisenoRiccardo/python/blob/main/EserciziListe.ipynb\" target=\"_parent\"><img src=\"https://colab.research.google.com/assets/colab-badge.svg\" alt=\"Open In Colab\"/></a>"
      ]
    },
    {
      "cell_type": "markdown",
      "source": [
        "1. inserire i dati in strutture dati opportune"
      ],
      "metadata": {
        "id": "AFGhA4D9WhdE"
      }
    },
    {
      "cell_type": "code",
      "execution_count": 44,
      "metadata": {
        "id": "CWzrQDKqSYXC"
      },
      "outputs": [],
      "source": [
        "nomi = [\"Luca\", \"Carlo\", \"Maria\", \"Angela\", \"Stefano\", \"Davide\"]\n",
        "altezze = [1.80, 1.67, 1.75, 1.68, 1.81, 1.78]\n",
        "pesi = [77, 48, 81, 55, 90, 70]"
      ]
    },
    {
      "cell_type": "markdown",
      "source": [
        "2. far inserire all'utente un nome e fornire il peso e l'altezza dello studente inserito"
      ],
      "metadata": {
        "id": "T37WHl0LTPUO"
      }
    },
    {
      "cell_type": "code",
      "source": [
        "nome= input(\"Inserisci il dello studente:\")\n",
        "print(altezze[nomi.index(nome)], \"m\")\n",
        "print(pesi[nomi.index(nome)], \"kg\")"
      ],
      "metadata": {
        "colab": {
          "base_uri": "https://localhost:8080/"
        },
        "id": "uHySDMnpTQYs",
        "outputId": "71b1193e-6806-4dfe-9401-09025b81254f"
      },
      "execution_count": 16,
      "outputs": [
        {
          "output_type": "stream",
          "name": "stdout",
          "text": [
            "Inserisci il dello nuovo studente:Carlo\n",
            "1.67 m\n",
            "48 kg\n"
          ]
        }
      ]
    },
    {
      "cell_type": "markdown",
      "source": [
        "3. visualizzare il nome dello studente più alto"
      ],
      "metadata": {
        "id": "5-CCtHrnWjH1"
      }
    },
    {
      "cell_type": "code",
      "source": [
        "altezzamax = max(altezze)\n",
        "print(altezzamax)\n",
        "print(nomi[altezze.index(altezzamax)])"
      ],
      "metadata": {
        "colab": {
          "base_uri": "https://localhost:8080/"
        },
        "id": "dgz6FzQCVzXQ",
        "outputId": "36bcc4f0-1e2a-482a-8e6f-9b1c0346b04f"
      },
      "execution_count": 19,
      "outputs": [
        {
          "output_type": "stream",
          "name": "stdout",
          "text": [
            "1.81\n",
            "Stefano\n"
          ]
        }
      ]
    },
    {
      "cell_type": "markdown",
      "source": [
        "4. visualizzare il nome dello studente più magro"
      ],
      "metadata": {
        "id": "sm5apxoFXINb"
      }
    },
    {
      "cell_type": "code",
      "source": [
        "altezzamin = min(altezze)\n",
        "print(altezzamin)\n",
        "print(nomi[altezze.index(altezzamin)])"
      ],
      "metadata": {
        "colab": {
          "base_uri": "https://localhost:8080/"
        },
        "id": "XpWei5r9XHer",
        "outputId": "e9ff935d-8a4d-4beb-fc22-1f3db8fef2c5"
      },
      "execution_count": 21,
      "outputs": [
        {
          "output_type": "stream",
          "name": "stdout",
          "text": [
            "1.67\n",
            "Carlo\n"
          ]
        }
      ]
    },
    {
      "cell_type": "markdown",
      "source": [
        "5. far inserire il nome di uno studente e calcolare il suo IMC"
      ],
      "metadata": {
        "id": "BdnTHf96YNAt"
      }
    },
    {
      "cell_type": "code",
      "source": [
        "nome= input(\"Inserisci il dello studente:\")\n",
        "imc = pesi[nomi.index(nome)] / (altezze[nomi.index(nome)]*altezze[nomi.index(nome)])\n",
        "print(imc)"
      ],
      "metadata": {
        "colab": {
          "base_uri": "https://localhost:8080/"
        },
        "id": "07snSAWsXwxr",
        "outputId": "254994ec-96d6-44b6-b7b7-b2276ba15d55"
      },
      "execution_count": 22,
      "outputs": [
        {
          "output_type": "stream",
          "name": "stdout",
          "text": [
            "Inserisci il dello studente:Carlo\n",
            "17.21108680841909\n"
          ]
        }
      ]
    },
    {
      "cell_type": "markdown",
      "source": [
        "6. calcolare il peso medio degli studenti"
      ],
      "metadata": {
        "id": "pswlll1BYN_z"
      }
    },
    {
      "cell_type": "code",
      "source": [
        "from statistics import mean\n",
        "mean(pesi)"
      ],
      "metadata": {
        "colab": {
          "base_uri": "https://localhost:8080/"
        },
        "id": "Q1sqb5_NYP5y",
        "outputId": "8e4cb356-644f-4cae-8500-218c820135de"
      },
      "execution_count": 23,
      "outputs": [
        {
          "output_type": "execute_result",
          "data": {
            "text/plain": [
              "70.16666666666667"
            ]
          },
          "metadata": {},
          "execution_count": 23
        }
      ]
    },
    {
      "cell_type": "markdown",
      "source": [
        "7. visualizzare il numero di studenti"
      ],
      "metadata": {
        "id": "j-A_1pC9YaQT"
      }
    },
    {
      "cell_type": "code",
      "source": [
        "len(nomi)"
      ],
      "metadata": {
        "colab": {
          "base_uri": "https://localhost:8080/"
        },
        "id": "ZBbnS4LcYawb",
        "outputId": "fa098879-f7f4-403f-ff5a-1136264b14f7"
      },
      "execution_count": 25,
      "outputs": [
        {
          "output_type": "execute_result",
          "data": {
            "text/plain": [
              "6"
            ]
          },
          "metadata": {},
          "execution_count": 25
        }
      ]
    },
    {
      "cell_type": "markdown",
      "source": [
        "8. aggiungere lo studente Marco che pesa 76 Kg ed è alto 1.90"
      ],
      "metadata": {
        "id": "_ZwekeYjYgEb"
      }
    },
    {
      "cell_type": "code",
      "source": [
        "nomi.extend([\"Marco\"])\n",
        "pesi.extend([76])\n",
        "altezze.extend([1.90])"
      ],
      "metadata": {
        "id": "rAf5YY8FYhvT"
      },
      "execution_count": 46,
      "outputs": []
    },
    {
      "cell_type": "markdown",
      "source": [
        "9. eliminare le informazioni riguardanti Maria"
      ],
      "metadata": {
        "id": "d7kdFqfXY0BM"
      }
    },
    {
      "cell_type": "code",
      "source": [
        "# rip Maria"
      ],
      "metadata": {
        "id": "JtsjHpv0Y1qL"
      },
      "execution_count": null,
      "outputs": []
    },
    {
      "cell_type": "code",
      "source": [
        "print(nomi)\n",
        "maria = nomi.index(\"Maria\")\n",
        "print(maria)\n",
        "del nomi[maria]\n",
        "del pesi[maria]\n",
        "del altezze[maria]\n",
        "print(nomi)\n",
        "print(altezze)\n",
        "print(pesi)"
      ],
      "metadata": {
        "colab": {
          "base_uri": "https://localhost:8080/"
        },
        "id": "w_zlWwSzY317",
        "outputId": "34c3435f-d14d-4a02-e4d3-c01a46e4ddc8"
      },
      "execution_count": 47,
      "outputs": [
        {
          "output_type": "stream",
          "name": "stdout",
          "text": [
            "['Luca', 'Carlo', 'Angela', 'Stefano', 'Davide', 'Maria']\n",
            "5\n",
            "['Luca', 'Carlo', 'Angela', 'Stefano', 'Davide']\n",
            "[1.8, 1.67, 1.68, 1.81, 1.78]\n",
            "[77, 48, 55, 90, 70]\n"
          ]
        }
      ]
    }
  ]
}